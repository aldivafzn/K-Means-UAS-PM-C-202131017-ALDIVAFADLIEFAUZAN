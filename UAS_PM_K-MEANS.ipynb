{
 "cells": [
  {
   "cell_type": "code",
   "execution_count": 18,
   "metadata": {},
   "outputs": [],
   "source": [
    "import pandas as pd\n",
    "import matplotlib.pyplot as plt\n",
    "import seaborn as sns\n",
    "%matplotlib inline\n",
    "import plotly.express as px\n",
    "from sklearn.cluster import KMeans"
   ]
  },
  {
   "cell_type": "code",
   "execution_count": 19,
   "metadata": {},
   "outputs": [],
   "source": [
    "\t\n",
    "df = pd.read_csv('Obesity Classification.csv')"
   ]
  },
  {
   "cell_type": "code",
   "execution_count": 20,
   "metadata": {},
   "outputs": [
    {
     "data": {
      "text/html": [
       "<div>\n",
       "<style scoped>\n",
       "    .dataframe tbody tr th:only-of-type {\n",
       "        vertical-align: middle;\n",
       "    }\n",
       "\n",
       "    .dataframe tbody tr th {\n",
       "        vertical-align: top;\n",
       "    }\n",
       "\n",
       "    .dataframe thead th {\n",
       "        text-align: right;\n",
       "    }\n",
       "</style>\n",
       "<table border=\"1\" class=\"dataframe\">\n",
       "  <thead>\n",
       "    <tr style=\"text-align: right;\">\n",
       "      <th></th>\n",
       "      <th>ID</th>\n",
       "      <th>Age</th>\n",
       "      <th>Gender</th>\n",
       "      <th>Height</th>\n",
       "      <th>Weight</th>\n",
       "      <th>BMI</th>\n",
       "      <th>Label</th>\n",
       "    </tr>\n",
       "  </thead>\n",
       "  <tbody>\n",
       "    <tr>\n",
       "      <th>0</th>\n",
       "      <td>1</td>\n",
       "      <td>25</td>\n",
       "      <td>Male</td>\n",
       "      <td>175</td>\n",
       "      <td>80</td>\n",
       "      <td>25.3</td>\n",
       "      <td>Normal Weight</td>\n",
       "    </tr>\n",
       "    <tr>\n",
       "      <th>1</th>\n",
       "      <td>2</td>\n",
       "      <td>30</td>\n",
       "      <td>Female</td>\n",
       "      <td>160</td>\n",
       "      <td>60</td>\n",
       "      <td>22.5</td>\n",
       "      <td>Normal Weight</td>\n",
       "    </tr>\n",
       "    <tr>\n",
       "      <th>2</th>\n",
       "      <td>3</td>\n",
       "      <td>35</td>\n",
       "      <td>Male</td>\n",
       "      <td>180</td>\n",
       "      <td>90</td>\n",
       "      <td>27.3</td>\n",
       "      <td>Overweight</td>\n",
       "    </tr>\n",
       "    <tr>\n",
       "      <th>3</th>\n",
       "      <td>4</td>\n",
       "      <td>40</td>\n",
       "      <td>Female</td>\n",
       "      <td>150</td>\n",
       "      <td>50</td>\n",
       "      <td>20.0</td>\n",
       "      <td>Underweight</td>\n",
       "    </tr>\n",
       "    <tr>\n",
       "      <th>4</th>\n",
       "      <td>5</td>\n",
       "      <td>45</td>\n",
       "      <td>Male</td>\n",
       "      <td>190</td>\n",
       "      <td>100</td>\n",
       "      <td>31.2</td>\n",
       "      <td>Obese</td>\n",
       "    </tr>\n",
       "  </tbody>\n",
       "</table>\n",
       "</div>"
      ],
      "text/plain": [
       "   ID  Age  Gender  Height  Weight   BMI          Label\n",
       "0   1   25    Male     175      80  25.3  Normal Weight\n",
       "1   2   30  Female     160      60  22.5  Normal Weight\n",
       "2   3   35    Male     180      90  27.3     Overweight\n",
       "3   4   40  Female     150      50  20.0    Underweight\n",
       "4   5   45    Male     190     100  31.2          Obese"
      ]
     },
     "execution_count": 20,
     "metadata": {},
     "output_type": "execute_result"
    }
   ],
   "source": [
    "df.head()"
   ]
  },
  {
   "cell_type": "code",
   "execution_count": 21,
   "metadata": {},
   "outputs": [
    {
     "name": "stdout",
     "output_type": "stream",
     "text": [
      "<class 'pandas.core.frame.DataFrame'>\n",
      "RangeIndex: 108 entries, 0 to 107\n",
      "Data columns (total 7 columns):\n",
      " #   Column  Non-Null Count  Dtype  \n",
      "---  ------  --------------  -----  \n",
      " 0   ID      108 non-null    int64  \n",
      " 1   Age     108 non-null    int64  \n",
      " 2   Gender  108 non-null    object \n",
      " 3   Height  108 non-null    int64  \n",
      " 4   Weight  108 non-null    int64  \n",
      " 5   BMI     108 non-null    float64\n",
      " 6   Label   108 non-null    object \n",
      "dtypes: float64(1), int64(4), object(2)\n",
      "memory usage: 6.0+ KB\n"
     ]
    }
   ],
   "source": [
    "df.info()"
   ]
  },
  {
   "cell_type": "code",
   "execution_count": 22,
   "metadata": {},
   "outputs": [
    {
     "data": {
      "text/plain": [
       "ID        108\n",
       "Age        75\n",
       "Gender      2\n",
       "Height     10\n",
       "Weight     23\n",
       "BMI        25\n",
       "Label       4\n",
       "dtype: int64"
      ]
     },
     "execution_count": 22,
     "metadata": {},
     "output_type": "execute_result"
    }
   ],
   "source": [
    "df.nunique()"
   ]
  },
  {
   "cell_type": "code",
   "execution_count": 23,
   "metadata": {},
   "outputs": [
    {
     "data": {
      "application/vnd.plotly.v1+json": {
       "config": {
        "plotlyServerURL": "https://plot.ly"
       },
       "data": [
        {
         "alignmentgroup": "True",
         "bingroup": "x",
         "hovertemplate": "Gender=Male<br>Age=%{x}<br>count=%{y}<extra></extra>",
         "legendgroup": "Male",
         "marker": {
          "color": "#2BCDC1",
          "pattern": {
           "shape": ""
          }
         },
         "name": "Male",
         "offsetgroup": "Male",
         "orientation": "v",
         "showlegend": true,
         "type": "histogram",
         "x": [
          25,
          35,
          45,
          55,
          65,
          18,
          28,
          38,
          48,
          58,
          68,
          78,
          88,
          98,
          108,
          19,
          29,
          39,
          49,
          59,
          17,
          27,
          37,
          47,
          57,
          67,
          77,
          87,
          97,
          107,
          16,
          26,
          36,
          46,
          56,
          15,
          25,
          35,
          45,
          55,
          14,
          24,
          34,
          13,
          23,
          33,
          43,
          53,
          12,
          22,
          32,
          42,
          52,
          11,
          21,
          31
         ],
         "xaxis": "x",
         "yaxis": "y"
        },
        {
         "alignmentgroup": "True",
         "hovertemplate": "Gender=Male<br>Age=%{x}<extra></extra>",
         "legendgroup": "Male",
         "marker": {
          "color": "#2BCDC1"
         },
         "name": "Male",
         "notched": true,
         "offsetgroup": "Male",
         "showlegend": false,
         "type": "box",
         "x": [
          25,
          35,
          45,
          55,
          65,
          18,
          28,
          38,
          48,
          58,
          68,
          78,
          88,
          98,
          108,
          19,
          29,
          39,
          49,
          59,
          17,
          27,
          37,
          47,
          57,
          67,
          77,
          87,
          97,
          107,
          16,
          26,
          36,
          46,
          56,
          15,
          25,
          35,
          45,
          55,
          14,
          24,
          34,
          13,
          23,
          33,
          43,
          53,
          12,
          22,
          32,
          42,
          52,
          11,
          21,
          31
         ],
         "xaxis": "x3",
         "yaxis": "y3"
        },
        {
         "alignmentgroup": "True",
         "bingroup": "x",
         "hovertemplate": "Gender=Female<br>Age=%{x}<br>count=%{y}<extra></extra>",
         "legendgroup": "Female",
         "marker": {
          "color": "#F66095",
          "pattern": {
           "shape": ""
          }
         },
         "name": "Female",
         "offsetgroup": "Female",
         "orientation": "v",
         "showlegend": true,
         "type": "histogram",
         "x": [
          30,
          40,
          50,
          60,
          70,
          23,
          33,
          43,
          53,
          63,
          73,
          83,
          93,
          103,
          24,
          44,
          54,
          64,
          22,
          32,
          42,
          52,
          62,
          72,
          82,
          92,
          102,
          112,
          21,
          31,
          41,
          51,
          61,
          20,
          30,
          40,
          50,
          60,
          19,
          29,
          18,
          28,
          38,
          48,
          58,
          17,
          27,
          37,
          47,
          57,
          16,
          26
         ],
         "xaxis": "x2",
         "yaxis": "y2"
        },
        {
         "alignmentgroup": "True",
         "hovertemplate": "Gender=Female<br>Age=%{x}<extra></extra>",
         "legendgroup": "Female",
         "marker": {
          "color": "#F66095"
         },
         "name": "Female",
         "notched": true,
         "offsetgroup": "Female",
         "showlegend": false,
         "type": "box",
         "x": [
          30,
          40,
          50,
          60,
          70,
          23,
          33,
          43,
          53,
          63,
          73,
          83,
          93,
          103,
          24,
          44,
          54,
          64,
          22,
          32,
          42,
          52,
          62,
          72,
          82,
          92,
          102,
          112,
          21,
          31,
          41,
          51,
          61,
          20,
          30,
          40,
          50,
          60,
          19,
          29,
          18,
          28,
          38,
          48,
          58,
          17,
          27,
          37,
          47,
          57,
          16,
          26
         ],
         "xaxis": "x4",
         "yaxis": "y4"
        }
       ],
       "layout": {
        "annotations": [
         {
          "font": {},
          "showarrow": false,
          "text": "Gender=Male",
          "x": 0.245,
          "xanchor": "center",
          "xref": "paper",
          "y": 1,
          "yanchor": "bottom",
          "yref": "paper"
         },
         {
          "font": {},
          "showarrow": false,
          "text": "Gender=Female",
          "x": 0.755,
          "xanchor": "center",
          "xref": "paper",
          "y": 1,
          "yanchor": "bottom",
          "yref": "paper"
         }
        ],
        "barmode": "relative",
        "legend": {
         "title": {
          "text": "Gender"
         },
         "tracegroupgap": 0
        },
        "template": {
         "data": {
          "bar": [
           {
            "error_x": {
             "color": "#2a3f5f"
            },
            "error_y": {
             "color": "#2a3f5f"
            },
            "marker": {
             "line": {
              "color": "#E5ECF6",
              "width": 0.5
             },
             "pattern": {
              "fillmode": "overlay",
              "size": 10,
              "solidity": 0.2
             }
            },
            "type": "bar"
           }
          ],
          "barpolar": [
           {
            "marker": {
             "line": {
              "color": "#E5ECF6",
              "width": 0.5
             },
             "pattern": {
              "fillmode": "overlay",
              "size": 10,
              "solidity": 0.2
             }
            },
            "type": "barpolar"
           }
          ],
          "carpet": [
           {
            "aaxis": {
             "endlinecolor": "#2a3f5f",
             "gridcolor": "white",
             "linecolor": "white",
             "minorgridcolor": "white",
             "startlinecolor": "#2a3f5f"
            },
            "baxis": {
             "endlinecolor": "#2a3f5f",
             "gridcolor": "white",
             "linecolor": "white",
             "minorgridcolor": "white",
             "startlinecolor": "#2a3f5f"
            },
            "type": "carpet"
           }
          ],
          "choropleth": [
           {
            "colorbar": {
             "outlinewidth": 0,
             "ticks": ""
            },
            "type": "choropleth"
           }
          ],
          "contour": [
           {
            "colorbar": {
             "outlinewidth": 0,
             "ticks": ""
            },
            "colorscale": [
             [
              0,
              "#0d0887"
             ],
             [
              0.1111111111111111,
              "#46039f"
             ],
             [
              0.2222222222222222,
              "#7201a8"
             ],
             [
              0.3333333333333333,
              "#9c179e"
             ],
             [
              0.4444444444444444,
              "#bd3786"
             ],
             [
              0.5555555555555556,
              "#d8576b"
             ],
             [
              0.6666666666666666,
              "#ed7953"
             ],
             [
              0.7777777777777778,
              "#fb9f3a"
             ],
             [
              0.8888888888888888,
              "#fdca26"
             ],
             [
              1,
              "#f0f921"
             ]
            ],
            "type": "contour"
           }
          ],
          "contourcarpet": [
           {
            "colorbar": {
             "outlinewidth": 0,
             "ticks": ""
            },
            "type": "contourcarpet"
           }
          ],
          "heatmap": [
           {
            "colorbar": {
             "outlinewidth": 0,
             "ticks": ""
            },
            "colorscale": [
             [
              0,
              "#0d0887"
             ],
             [
              0.1111111111111111,
              "#46039f"
             ],
             [
              0.2222222222222222,
              "#7201a8"
             ],
             [
              0.3333333333333333,
              "#9c179e"
             ],
             [
              0.4444444444444444,
              "#bd3786"
             ],
             [
              0.5555555555555556,
              "#d8576b"
             ],
             [
              0.6666666666666666,
              "#ed7953"
             ],
             [
              0.7777777777777778,
              "#fb9f3a"
             ],
             [
              0.8888888888888888,
              "#fdca26"
             ],
             [
              1,
              "#f0f921"
             ]
            ],
            "type": "heatmap"
           }
          ],
          "heatmapgl": [
           {
            "colorbar": {
             "outlinewidth": 0,
             "ticks": ""
            },
            "colorscale": [
             [
              0,
              "#0d0887"
             ],
             [
              0.1111111111111111,
              "#46039f"
             ],
             [
              0.2222222222222222,
              "#7201a8"
             ],
             [
              0.3333333333333333,
              "#9c179e"
             ],
             [
              0.4444444444444444,
              "#bd3786"
             ],
             [
              0.5555555555555556,
              "#d8576b"
             ],
             [
              0.6666666666666666,
              "#ed7953"
             ],
             [
              0.7777777777777778,
              "#fb9f3a"
             ],
             [
              0.8888888888888888,
              "#fdca26"
             ],
             [
              1,
              "#f0f921"
             ]
            ],
            "type": "heatmapgl"
           }
          ],
          "histogram": [
           {
            "marker": {
             "pattern": {
              "fillmode": "overlay",
              "size": 10,
              "solidity": 0.2
             }
            },
            "type": "histogram"
           }
          ],
          "histogram2d": [
           {
            "colorbar": {
             "outlinewidth": 0,
             "ticks": ""
            },
            "colorscale": [
             [
              0,
              "#0d0887"
             ],
             [
              0.1111111111111111,
              "#46039f"
             ],
             [
              0.2222222222222222,
              "#7201a8"
             ],
             [
              0.3333333333333333,
              "#9c179e"
             ],
             [
              0.4444444444444444,
              "#bd3786"
             ],
             [
              0.5555555555555556,
              "#d8576b"
             ],
             [
              0.6666666666666666,
              "#ed7953"
             ],
             [
              0.7777777777777778,
              "#fb9f3a"
             ],
             [
              0.8888888888888888,
              "#fdca26"
             ],
             [
              1,
              "#f0f921"
             ]
            ],
            "type": "histogram2d"
           }
          ],
          "histogram2dcontour": [
           {
            "colorbar": {
             "outlinewidth": 0,
             "ticks": ""
            },
            "colorscale": [
             [
              0,
              "#0d0887"
             ],
             [
              0.1111111111111111,
              "#46039f"
             ],
             [
              0.2222222222222222,
              "#7201a8"
             ],
             [
              0.3333333333333333,
              "#9c179e"
             ],
             [
              0.4444444444444444,
              "#bd3786"
             ],
             [
              0.5555555555555556,
              "#d8576b"
             ],
             [
              0.6666666666666666,
              "#ed7953"
             ],
             [
              0.7777777777777778,
              "#fb9f3a"
             ],
             [
              0.8888888888888888,
              "#fdca26"
             ],
             [
              1,
              "#f0f921"
             ]
            ],
            "type": "histogram2dcontour"
           }
          ],
          "mesh3d": [
           {
            "colorbar": {
             "outlinewidth": 0,
             "ticks": ""
            },
            "type": "mesh3d"
           }
          ],
          "parcoords": [
           {
            "line": {
             "colorbar": {
              "outlinewidth": 0,
              "ticks": ""
             }
            },
            "type": "parcoords"
           }
          ],
          "pie": [
           {
            "automargin": true,
            "type": "pie"
           }
          ],
          "scatter": [
           {
            "fillpattern": {
             "fillmode": "overlay",
             "size": 10,
             "solidity": 0.2
            },
            "type": "scatter"
           }
          ],
          "scatter3d": [
           {
            "line": {
             "colorbar": {
              "outlinewidth": 0,
              "ticks": ""
             }
            },
            "marker": {
             "colorbar": {
              "outlinewidth": 0,
              "ticks": ""
             }
            },
            "type": "scatter3d"
           }
          ],
          "scattercarpet": [
           {
            "marker": {
             "colorbar": {
              "outlinewidth": 0,
              "ticks": ""
             }
            },
            "type": "scattercarpet"
           }
          ],
          "scattergeo": [
           {
            "marker": {
             "colorbar": {
              "outlinewidth": 0,
              "ticks": ""
             }
            },
            "type": "scattergeo"
           }
          ],
          "scattergl": [
           {
            "marker": {
             "colorbar": {
              "outlinewidth": 0,
              "ticks": ""
             }
            },
            "type": "scattergl"
           }
          ],
          "scattermapbox": [
           {
            "marker": {
             "colorbar": {
              "outlinewidth": 0,
              "ticks": ""
             }
            },
            "type": "scattermapbox"
           }
          ],
          "scatterpolar": [
           {
            "marker": {
             "colorbar": {
              "outlinewidth": 0,
              "ticks": ""
             }
            },
            "type": "scatterpolar"
           }
          ],
          "scatterpolargl": [
           {
            "marker": {
             "colorbar": {
              "outlinewidth": 0,
              "ticks": ""
             }
            },
            "type": "scatterpolargl"
           }
          ],
          "scatterternary": [
           {
            "marker": {
             "colorbar": {
              "outlinewidth": 0,
              "ticks": ""
             }
            },
            "type": "scatterternary"
           }
          ],
          "surface": [
           {
            "colorbar": {
             "outlinewidth": 0,
             "ticks": ""
            },
            "colorscale": [
             [
              0,
              "#0d0887"
             ],
             [
              0.1111111111111111,
              "#46039f"
             ],
             [
              0.2222222222222222,
              "#7201a8"
             ],
             [
              0.3333333333333333,
              "#9c179e"
             ],
             [
              0.4444444444444444,
              "#bd3786"
             ],
             [
              0.5555555555555556,
              "#d8576b"
             ],
             [
              0.6666666666666666,
              "#ed7953"
             ],
             [
              0.7777777777777778,
              "#fb9f3a"
             ],
             [
              0.8888888888888888,
              "#fdca26"
             ],
             [
              1,
              "#f0f921"
             ]
            ],
            "type": "surface"
           }
          ],
          "table": [
           {
            "cells": {
             "fill": {
              "color": "#EBF0F8"
             },
             "line": {
              "color": "white"
             }
            },
            "header": {
             "fill": {
              "color": "#C8D4E3"
             },
             "line": {
              "color": "white"
             }
            },
            "type": "table"
           }
          ]
         },
         "layout": {
          "annotationdefaults": {
           "arrowcolor": "#2a3f5f",
           "arrowhead": 0,
           "arrowwidth": 1
          },
          "autotypenumbers": "strict",
          "coloraxis": {
           "colorbar": {
            "outlinewidth": 0,
            "ticks": ""
           }
          },
          "colorscale": {
           "diverging": [
            [
             0,
             "#8e0152"
            ],
            [
             0.1,
             "#c51b7d"
            ],
            [
             0.2,
             "#de77ae"
            ],
            [
             0.3,
             "#f1b6da"
            ],
            [
             0.4,
             "#fde0ef"
            ],
            [
             0.5,
             "#f7f7f7"
            ],
            [
             0.6,
             "#e6f5d0"
            ],
            [
             0.7,
             "#b8e186"
            ],
            [
             0.8,
             "#7fbc41"
            ],
            [
             0.9,
             "#4d9221"
            ],
            [
             1,
             "#276419"
            ]
           ],
           "sequential": [
            [
             0,
             "#0d0887"
            ],
            [
             0.1111111111111111,
             "#46039f"
            ],
            [
             0.2222222222222222,
             "#7201a8"
            ],
            [
             0.3333333333333333,
             "#9c179e"
            ],
            [
             0.4444444444444444,
             "#bd3786"
            ],
            [
             0.5555555555555556,
             "#d8576b"
            ],
            [
             0.6666666666666666,
             "#ed7953"
            ],
            [
             0.7777777777777778,
             "#fb9f3a"
            ],
            [
             0.8888888888888888,
             "#fdca26"
            ],
            [
             1,
             "#f0f921"
            ]
           ],
           "sequentialminus": [
            [
             0,
             "#0d0887"
            ],
            [
             0.1111111111111111,
             "#46039f"
            ],
            [
             0.2222222222222222,
             "#7201a8"
            ],
            [
             0.3333333333333333,
             "#9c179e"
            ],
            [
             0.4444444444444444,
             "#bd3786"
            ],
            [
             0.5555555555555556,
             "#d8576b"
            ],
            [
             0.6666666666666666,
             "#ed7953"
            ],
            [
             0.7777777777777778,
             "#fb9f3a"
            ],
            [
             0.8888888888888888,
             "#fdca26"
            ],
            [
             1,
             "#f0f921"
            ]
           ]
          },
          "colorway": [
           "#636efa",
           "#EF553B",
           "#00cc96",
           "#ab63fa",
           "#FFA15A",
           "#19d3f3",
           "#FF6692",
           "#B6E880",
           "#FF97FF",
           "#FECB52"
          ],
          "font": {
           "color": "#2a3f5f"
          },
          "geo": {
           "bgcolor": "white",
           "lakecolor": "white",
           "landcolor": "#E5ECF6",
           "showlakes": true,
           "showland": true,
           "subunitcolor": "white"
          },
          "hoverlabel": {
           "align": "left"
          },
          "hovermode": "closest",
          "mapbox": {
           "style": "light"
          },
          "paper_bgcolor": "white",
          "plot_bgcolor": "#E5ECF6",
          "polar": {
           "angularaxis": {
            "gridcolor": "white",
            "linecolor": "white",
            "ticks": ""
           },
           "bgcolor": "#E5ECF6",
           "radialaxis": {
            "gridcolor": "white",
            "linecolor": "white",
            "ticks": ""
           }
          },
          "scene": {
           "xaxis": {
            "backgroundcolor": "#E5ECF6",
            "gridcolor": "white",
            "gridwidth": 2,
            "linecolor": "white",
            "showbackground": true,
            "ticks": "",
            "zerolinecolor": "white"
           },
           "yaxis": {
            "backgroundcolor": "#E5ECF6",
            "gridcolor": "white",
            "gridwidth": 2,
            "linecolor": "white",
            "showbackground": true,
            "ticks": "",
            "zerolinecolor": "white"
           },
           "zaxis": {
            "backgroundcolor": "#E5ECF6",
            "gridcolor": "white",
            "gridwidth": 2,
            "linecolor": "white",
            "showbackground": true,
            "ticks": "",
            "zerolinecolor": "white"
           }
          },
          "shapedefaults": {
           "line": {
            "color": "#2a3f5f"
           }
          },
          "ternary": {
           "aaxis": {
            "gridcolor": "white",
            "linecolor": "white",
            "ticks": ""
           },
           "baxis": {
            "gridcolor": "white",
            "linecolor": "white",
            "ticks": ""
           },
           "bgcolor": "#E5ECF6",
           "caxis": {
            "gridcolor": "white",
            "linecolor": "white",
            "ticks": ""
           }
          },
          "title": {
           "x": 0.05
          },
          "xaxis": {
           "automargin": true,
           "gridcolor": "white",
           "linecolor": "white",
           "ticks": "",
           "title": {
            "standoff": 15
           },
           "zerolinecolor": "white",
           "zerolinewidth": 2
          },
          "yaxis": {
           "automargin": true,
           "gridcolor": "white",
           "linecolor": "white",
           "ticks": "",
           "title": {
            "standoff": 15
           },
           "zerolinecolor": "white",
           "zerolinewidth": 2
          }
         }
        },
        "title": {
         "text": "Age distribution"
        },
        "xaxis": {
         "anchor": "y",
         "domain": [
          0,
          0.49
         ],
         "title": {
          "text": "Age"
         }
        },
        "xaxis2": {
         "anchor": "y2",
         "domain": [
          0.51,
          1
         ],
         "matches": "x",
         "title": {
          "text": "Age"
         }
        },
        "xaxis3": {
         "anchor": "y3",
         "domain": [
          0,
          0.49
         ],
         "matches": "x",
         "showgrid": true,
         "showticklabels": false
        },
        "xaxis4": {
         "anchor": "y4",
         "domain": [
          0.51,
          1
         ],
         "matches": "x",
         "showgrid": true,
         "showticklabels": false
        },
        "yaxis": {
         "anchor": "x",
         "domain": [
          0,
          0.7326
         ],
         "title": {
          "text": "count"
         }
        },
        "yaxis2": {
         "anchor": "x2",
         "domain": [
          0,
          0.7326
         ],
         "matches": "y",
         "showticklabels": false
        },
        "yaxis3": {
         "anchor": "x3",
         "domain": [
          0.7426,
          1
         ],
         "matches": "y3",
         "showgrid": false,
         "showline": false,
         "showticklabels": false,
         "ticks": ""
        },
        "yaxis4": {
         "anchor": "x4",
         "domain": [
          0.7426,
          1
         ],
         "matches": "y3",
         "showgrid": false,
         "showline": false,
         "showticklabels": false,
         "ticks": ""
        }
       }
      }
     },
     "metadata": {},
     "output_type": "display_data"
    }
   ],
   "source": [
    "fig=px.histogram(data_frame=df,x='Age',color='Gender',facet_col='Gender',marginal='box',title='Age distribution',color_discrete_sequence=['#2BCDC1','#F66095'])\n",
    "fig.show()"
   ]
  },
  {
   "cell_type": "code",
   "execution_count": 24,
   "metadata": {},
   "outputs": [
    {
     "data": {
      "application/vnd.plotly.v1+json": {
       "config": {
        "plotlyServerURL": "https://plot.ly"
       },
       "data": [
        {
         "branchvalues": "total",
         "domain": {
          "x": [
           0,
           1
          ],
          "y": [
           0,
           1
          ]
         },
         "hovertemplate": "labels=%{label}<br>value=%{value}<br>parent=%{parent}<br>id=%{id}<extra></extra>",
         "ids": [
          "Female/Normal Weight",
          "Male/Normal Weight",
          "Male/Obese",
          "Female/Overweight",
          "Male/Overweight",
          "Female/Underweight",
          "Male/Underweight",
          "Female",
          "Male"
         ],
         "labels": [
          "Normal Weight",
          "Normal Weight",
          "Obese",
          "Overweight",
          "Overweight",
          "Underweight",
          "Underweight",
          "Female",
          "Male"
         ],
         "name": "",
         "parents": [
          "Female",
          "Male",
          "Male",
          "Female",
          "Male",
          "Female",
          "Male",
          "",
          ""
         ],
         "type": "sunburst",
         "values": [
          12,
          17,
          12,
          8,
          12,
          32,
          15,
          52,
          56
         ]
        }
       ],
       "layout": {
        "legend": {
         "tracegroupgap": 0
        },
        "margin": {
         "t": 60
        },
        "sunburstcolorway": [
         "#2BCDC1",
         "#F66095"
        ],
        "template": {
         "data": {
          "bar": [
           {
            "error_x": {
             "color": "#2a3f5f"
            },
            "error_y": {
             "color": "#2a3f5f"
            },
            "marker": {
             "line": {
              "color": "#E5ECF6",
              "width": 0.5
             },
             "pattern": {
              "fillmode": "overlay",
              "size": 10,
              "solidity": 0.2
             }
            },
            "type": "bar"
           }
          ],
          "barpolar": [
           {
            "marker": {
             "line": {
              "color": "#E5ECF6",
              "width": 0.5
             },
             "pattern": {
              "fillmode": "overlay",
              "size": 10,
              "solidity": 0.2
             }
            },
            "type": "barpolar"
           }
          ],
          "carpet": [
           {
            "aaxis": {
             "endlinecolor": "#2a3f5f",
             "gridcolor": "white",
             "linecolor": "white",
             "minorgridcolor": "white",
             "startlinecolor": "#2a3f5f"
            },
            "baxis": {
             "endlinecolor": "#2a3f5f",
             "gridcolor": "white",
             "linecolor": "white",
             "minorgridcolor": "white",
             "startlinecolor": "#2a3f5f"
            },
            "type": "carpet"
           }
          ],
          "choropleth": [
           {
            "colorbar": {
             "outlinewidth": 0,
             "ticks": ""
            },
            "type": "choropleth"
           }
          ],
          "contour": [
           {
            "colorbar": {
             "outlinewidth": 0,
             "ticks": ""
            },
            "colorscale": [
             [
              0,
              "#0d0887"
             ],
             [
              0.1111111111111111,
              "#46039f"
             ],
             [
              0.2222222222222222,
              "#7201a8"
             ],
             [
              0.3333333333333333,
              "#9c179e"
             ],
             [
              0.4444444444444444,
              "#bd3786"
             ],
             [
              0.5555555555555556,
              "#d8576b"
             ],
             [
              0.6666666666666666,
              "#ed7953"
             ],
             [
              0.7777777777777778,
              "#fb9f3a"
             ],
             [
              0.8888888888888888,
              "#fdca26"
             ],
             [
              1,
              "#f0f921"
             ]
            ],
            "type": "contour"
           }
          ],
          "contourcarpet": [
           {
            "colorbar": {
             "outlinewidth": 0,
             "ticks": ""
            },
            "type": "contourcarpet"
           }
          ],
          "heatmap": [
           {
            "colorbar": {
             "outlinewidth": 0,
             "ticks": ""
            },
            "colorscale": [
             [
              0,
              "#0d0887"
             ],
             [
              0.1111111111111111,
              "#46039f"
             ],
             [
              0.2222222222222222,
              "#7201a8"
             ],
             [
              0.3333333333333333,
              "#9c179e"
             ],
             [
              0.4444444444444444,
              "#bd3786"
             ],
             [
              0.5555555555555556,
              "#d8576b"
             ],
             [
              0.6666666666666666,
              "#ed7953"
             ],
             [
              0.7777777777777778,
              "#fb9f3a"
             ],
             [
              0.8888888888888888,
              "#fdca26"
             ],
             [
              1,
              "#f0f921"
             ]
            ],
            "type": "heatmap"
           }
          ],
          "heatmapgl": [
           {
            "colorbar": {
             "outlinewidth": 0,
             "ticks": ""
            },
            "colorscale": [
             [
              0,
              "#0d0887"
             ],
             [
              0.1111111111111111,
              "#46039f"
             ],
             [
              0.2222222222222222,
              "#7201a8"
             ],
             [
              0.3333333333333333,
              "#9c179e"
             ],
             [
              0.4444444444444444,
              "#bd3786"
             ],
             [
              0.5555555555555556,
              "#d8576b"
             ],
             [
              0.6666666666666666,
              "#ed7953"
             ],
             [
              0.7777777777777778,
              "#fb9f3a"
             ],
             [
              0.8888888888888888,
              "#fdca26"
             ],
             [
              1,
              "#f0f921"
             ]
            ],
            "type": "heatmapgl"
           }
          ],
          "histogram": [
           {
            "marker": {
             "pattern": {
              "fillmode": "overlay",
              "size": 10,
              "solidity": 0.2
             }
            },
            "type": "histogram"
           }
          ],
          "histogram2d": [
           {
            "colorbar": {
             "outlinewidth": 0,
             "ticks": ""
            },
            "colorscale": [
             [
              0,
              "#0d0887"
             ],
             [
              0.1111111111111111,
              "#46039f"
             ],
             [
              0.2222222222222222,
              "#7201a8"
             ],
             [
              0.3333333333333333,
              "#9c179e"
             ],
             [
              0.4444444444444444,
              "#bd3786"
             ],
             [
              0.5555555555555556,
              "#d8576b"
             ],
             [
              0.6666666666666666,
              "#ed7953"
             ],
             [
              0.7777777777777778,
              "#fb9f3a"
             ],
             [
              0.8888888888888888,
              "#fdca26"
             ],
             [
              1,
              "#f0f921"
             ]
            ],
            "type": "histogram2d"
           }
          ],
          "histogram2dcontour": [
           {
            "colorbar": {
             "outlinewidth": 0,
             "ticks": ""
            },
            "colorscale": [
             [
              0,
              "#0d0887"
             ],
             [
              0.1111111111111111,
              "#46039f"
             ],
             [
              0.2222222222222222,
              "#7201a8"
             ],
             [
              0.3333333333333333,
              "#9c179e"
             ],
             [
              0.4444444444444444,
              "#bd3786"
             ],
             [
              0.5555555555555556,
              "#d8576b"
             ],
             [
              0.6666666666666666,
              "#ed7953"
             ],
             [
              0.7777777777777778,
              "#fb9f3a"
             ],
             [
              0.8888888888888888,
              "#fdca26"
             ],
             [
              1,
              "#f0f921"
             ]
            ],
            "type": "histogram2dcontour"
           }
          ],
          "mesh3d": [
           {
            "colorbar": {
             "outlinewidth": 0,
             "ticks": ""
            },
            "type": "mesh3d"
           }
          ],
          "parcoords": [
           {
            "line": {
             "colorbar": {
              "outlinewidth": 0,
              "ticks": ""
             }
            },
            "type": "parcoords"
           }
          ],
          "pie": [
           {
            "automargin": true,
            "type": "pie"
           }
          ],
          "scatter": [
           {
            "fillpattern": {
             "fillmode": "overlay",
             "size": 10,
             "solidity": 0.2
            },
            "type": "scatter"
           }
          ],
          "scatter3d": [
           {
            "line": {
             "colorbar": {
              "outlinewidth": 0,
              "ticks": ""
             }
            },
            "marker": {
             "colorbar": {
              "outlinewidth": 0,
              "ticks": ""
             }
            },
            "type": "scatter3d"
           }
          ],
          "scattercarpet": [
           {
            "marker": {
             "colorbar": {
              "outlinewidth": 0,
              "ticks": ""
             }
            },
            "type": "scattercarpet"
           }
          ],
          "scattergeo": [
           {
            "marker": {
             "colorbar": {
              "outlinewidth": 0,
              "ticks": ""
             }
            },
            "type": "scattergeo"
           }
          ],
          "scattergl": [
           {
            "marker": {
             "colorbar": {
              "outlinewidth": 0,
              "ticks": ""
             }
            },
            "type": "scattergl"
           }
          ],
          "scattermapbox": [
           {
            "marker": {
             "colorbar": {
              "outlinewidth": 0,
              "ticks": ""
             }
            },
            "type": "scattermapbox"
           }
          ],
          "scatterpolar": [
           {
            "marker": {
             "colorbar": {
              "outlinewidth": 0,
              "ticks": ""
             }
            },
            "type": "scatterpolar"
           }
          ],
          "scatterpolargl": [
           {
            "marker": {
             "colorbar": {
              "outlinewidth": 0,
              "ticks": ""
             }
            },
            "type": "scatterpolargl"
           }
          ],
          "scatterternary": [
           {
            "marker": {
             "colorbar": {
              "outlinewidth": 0,
              "ticks": ""
             }
            },
            "type": "scatterternary"
           }
          ],
          "surface": [
           {
            "colorbar": {
             "outlinewidth": 0,
             "ticks": ""
            },
            "colorscale": [
             [
              0,
              "#0d0887"
             ],
             [
              0.1111111111111111,
              "#46039f"
             ],
             [
              0.2222222222222222,
              "#7201a8"
             ],
             [
              0.3333333333333333,
              "#9c179e"
             ],
             [
              0.4444444444444444,
              "#bd3786"
             ],
             [
              0.5555555555555556,
              "#d8576b"
             ],
             [
              0.6666666666666666,
              "#ed7953"
             ],
             [
              0.7777777777777778,
              "#fb9f3a"
             ],
             [
              0.8888888888888888,
              "#fdca26"
             ],
             [
              1,
              "#f0f921"
             ]
            ],
            "type": "surface"
           }
          ],
          "table": [
           {
            "cells": {
             "fill": {
              "color": "#EBF0F8"
             },
             "line": {
              "color": "white"
             }
            },
            "header": {
             "fill": {
              "color": "#C8D4E3"
             },
             "line": {
              "color": "white"
             }
            },
            "type": "table"
           }
          ]
         },
         "layout": {
          "annotationdefaults": {
           "arrowcolor": "#2a3f5f",
           "arrowhead": 0,
           "arrowwidth": 1
          },
          "autotypenumbers": "strict",
          "coloraxis": {
           "colorbar": {
            "outlinewidth": 0,
            "ticks": ""
           }
          },
          "colorscale": {
           "diverging": [
            [
             0,
             "#8e0152"
            ],
            [
             0.1,
             "#c51b7d"
            ],
            [
             0.2,
             "#de77ae"
            ],
            [
             0.3,
             "#f1b6da"
            ],
            [
             0.4,
             "#fde0ef"
            ],
            [
             0.5,
             "#f7f7f7"
            ],
            [
             0.6,
             "#e6f5d0"
            ],
            [
             0.7,
             "#b8e186"
            ],
            [
             0.8,
             "#7fbc41"
            ],
            [
             0.9,
             "#4d9221"
            ],
            [
             1,
             "#276419"
            ]
           ],
           "sequential": [
            [
             0,
             "#0d0887"
            ],
            [
             0.1111111111111111,
             "#46039f"
            ],
            [
             0.2222222222222222,
             "#7201a8"
            ],
            [
             0.3333333333333333,
             "#9c179e"
            ],
            [
             0.4444444444444444,
             "#bd3786"
            ],
            [
             0.5555555555555556,
             "#d8576b"
            ],
            [
             0.6666666666666666,
             "#ed7953"
            ],
            [
             0.7777777777777778,
             "#fb9f3a"
            ],
            [
             0.8888888888888888,
             "#fdca26"
            ],
            [
             1,
             "#f0f921"
            ]
           ],
           "sequentialminus": [
            [
             0,
             "#0d0887"
            ],
            [
             0.1111111111111111,
             "#46039f"
            ],
            [
             0.2222222222222222,
             "#7201a8"
            ],
            [
             0.3333333333333333,
             "#9c179e"
            ],
            [
             0.4444444444444444,
             "#bd3786"
            ],
            [
             0.5555555555555556,
             "#d8576b"
            ],
            [
             0.6666666666666666,
             "#ed7953"
            ],
            [
             0.7777777777777778,
             "#fb9f3a"
            ],
            [
             0.8888888888888888,
             "#fdca26"
            ],
            [
             1,
             "#f0f921"
            ]
           ]
          },
          "colorway": [
           "#636efa",
           "#EF553B",
           "#00cc96",
           "#ab63fa",
           "#FFA15A",
           "#19d3f3",
           "#FF6692",
           "#B6E880",
           "#FF97FF",
           "#FECB52"
          ],
          "font": {
           "color": "#2a3f5f"
          },
          "geo": {
           "bgcolor": "white",
           "lakecolor": "white",
           "landcolor": "#E5ECF6",
           "showlakes": true,
           "showland": true,
           "subunitcolor": "white"
          },
          "hoverlabel": {
           "align": "left"
          },
          "hovermode": "closest",
          "mapbox": {
           "style": "light"
          },
          "paper_bgcolor": "white",
          "plot_bgcolor": "#E5ECF6",
          "polar": {
           "angularaxis": {
            "gridcolor": "white",
            "linecolor": "white",
            "ticks": ""
           },
           "bgcolor": "#E5ECF6",
           "radialaxis": {
            "gridcolor": "white",
            "linecolor": "white",
            "ticks": ""
           }
          },
          "scene": {
           "xaxis": {
            "backgroundcolor": "#E5ECF6",
            "gridcolor": "white",
            "gridwidth": 2,
            "linecolor": "white",
            "showbackground": true,
            "ticks": "",
            "zerolinecolor": "white"
           },
           "yaxis": {
            "backgroundcolor": "#E5ECF6",
            "gridcolor": "white",
            "gridwidth": 2,
            "linecolor": "white",
            "showbackground": true,
            "ticks": "",
            "zerolinecolor": "white"
           },
           "zaxis": {
            "backgroundcolor": "#E5ECF6",
            "gridcolor": "white",
            "gridwidth": 2,
            "linecolor": "white",
            "showbackground": true,
            "ticks": "",
            "zerolinecolor": "white"
           }
          },
          "shapedefaults": {
           "line": {
            "color": "#2a3f5f"
           }
          },
          "ternary": {
           "aaxis": {
            "gridcolor": "white",
            "linecolor": "white",
            "ticks": ""
           },
           "baxis": {
            "gridcolor": "white",
            "linecolor": "white",
            "ticks": ""
           },
           "bgcolor": "#E5ECF6",
           "caxis": {
            "gridcolor": "white",
            "linecolor": "white",
            "ticks": ""
           }
          },
          "title": {
           "x": 0.05
          },
          "xaxis": {
           "automargin": true,
           "gridcolor": "white",
           "linecolor": "white",
           "ticks": "",
           "title": {
            "standoff": 15
           },
           "zerolinecolor": "white",
           "zerolinewidth": 2
          },
          "yaxis": {
           "automargin": true,
           "gridcolor": "white",
           "linecolor": "white",
           "ticks": "",
           "title": {
            "standoff": 15
           },
           "zerolinecolor": "white",
           "zerolinewidth": 2
          }
         }
        }
       }
      }
     },
     "metadata": {},
     "output_type": "display_data"
    }
   ],
   "source": [
    "fig=px.sunburst(df,path=['Gender','Label'],values=df.value_counts().values,color_discrete_sequence=['#2BCDC1','#F66095'])\n",
    "fig.show()"
   ]
  },
  {
   "cell_type": "code",
   "execution_count": 25,
   "metadata": {},
   "outputs": [
    {
     "data": {
      "application/vnd.plotly.v1+json": {
       "config": {
        "plotlyServerURL": "https://plot.ly"
       },
       "data": [
        {
         "autobinx": false,
         "histnorm": "probability density",
         "legendgroup": "Male",
         "marker": {
          "color": "#2BCDC1"
         },
         "name": "Male",
         "opacity": 0.7,
         "type": "histogram",
         "x": [
          25.3,
          27.3,
          31.2,
          34.2,
          37.2,
          23.4,
          25.3,
          27.3,
          31.2,
          34.2,
          25.3,
          27.3,
          31.2,
          34.2,
          37.2,
          24.2,
          26.1,
          27,
          28.9,
          30.8,
          22.7,
          24.2,
          26.1,
          27,
          28.9,
          22.7,
          24.2,
          26.1,
          27,
          28.9,
          21.2,
          22.7,
          24.2,
          26.1,
          27,
          18.7,
          21.2,
          22.7,
          24.2,
          26.1,
          16.7,
          18.7,
          21.2,
          10,
          13.3,
          16.7,
          20,
          21.2,
          5.6,
          8.3,
          10,
          13.3,
          16.7,
          3.9,
          5.6,
          8.3
         ],
         "xaxis": "x",
         "xbins": {
          "end": 37.2,
          "size": 1,
          "start": 3.9
         },
         "yaxis": "y"
        },
        {
         "autobinx": false,
         "histnorm": "probability density",
         "legendgroup": "Female",
         "marker": {
          "color": "#F66095"
         },
         "name": "Female",
         "opacity": 0.7,
         "type": "histogram",
         "x": [
          22.5,
          20,
          16.7,
          13.3,
          10,
          20,
          22.5,
          20,
          16.7,
          13.3,
          22.5,
          20,
          16.7,
          13.3,
          21.2,
          25,
          27.5,
          29.1,
          18.7,
          21.2,
          22.7,
          25,
          27.5,
          18.7,
          21.2,
          22.7,
          25,
          27.5,
          16.7,
          18.7,
          21.2,
          22.7,
          25,
          13.3,
          16.7,
          20,
          22.5,
          23.4,
          10,
          13.3,
          8.3,
          10,
          16.7,
          16.7,
          16.7,
          5.6,
          8.3,
          10,
          13.3,
          10,
          3.9,
          5.6
         ],
         "xaxis": "x",
         "xbins": {
          "end": 29.1,
          "size": 1,
          "start": 3.9
         },
         "yaxis": "y"
        },
        {
         "legendgroup": "Male",
         "marker": {
          "color": "#2BCDC1"
         },
         "mode": "lines",
         "name": "Male",
         "showlegend": false,
         "type": "scatter",
         "x": [
          3.9,
          3.9666,
          4.0332,
          4.0998,
          4.1664,
          4.233,
          4.2996,
          4.3662,
          4.4328,
          4.4994,
          4.566,
          4.6326,
          4.6992,
          4.7658,
          4.8324,
          4.899,
          4.9656,
          5.0322,
          5.0988,
          5.1654,
          5.232,
          5.2986,
          5.3652,
          5.4318,
          5.4984,
          5.565,
          5.6316,
          5.6982,
          5.7648,
          5.8314,
          5.898,
          5.964600000000001,
          6.0312,
          6.097799999999999,
          6.1644000000000005,
          6.231,
          6.2976,
          6.3642,
          6.4308,
          6.497400000000001,
          6.564,
          6.6306,
          6.6972000000000005,
          6.7638,
          6.830400000000001,
          6.897,
          6.9636000000000005,
          7.030200000000001,
          7.0968,
          7.163400000000001,
          7.23,
          7.2966,
          7.3632,
          7.4298,
          7.4964,
          7.563000000000001,
          7.6296,
          7.6962,
          7.7628,
          7.829400000000001,
          7.896000000000001,
          7.9626,
          8.029200000000001,
          8.0958,
          8.1624,
          8.229000000000001,
          8.2956,
          8.362200000000001,
          8.4288,
          8.4954,
          8.562000000000001,
          8.6286,
          8.6952,
          8.761800000000001,
          8.8284,
          8.895000000000001,
          8.9616,
          9.0282,
          9.094800000000001,
          9.1614,
          9.228000000000002,
          9.2946,
          9.3612,
          9.427800000000001,
          9.4944,
          9.561,
          9.627600000000001,
          9.6942,
          9.760800000000001,
          9.8274,
          9.894,
          9.9606,
          10.0272,
          10.093800000000002,
          10.160400000000001,
          10.227,
          10.2936,
          10.3602,
          10.426800000000002,
          10.493400000000001,
          10.56,
          10.626600000000002,
          10.693200000000001,
          10.7598,
          10.8264,
          10.893,
          10.959600000000002,
          11.026200000000001,
          11.0928,
          11.1594,
          11.226,
          11.292600000000002,
          11.359200000000001,
          11.4258,
          11.4924,
          11.559000000000001,
          11.6256,
          11.692200000000001,
          11.7588,
          11.825400000000002,
          11.892000000000001,
          11.958600000000002,
          12.025200000000002,
          12.091800000000001,
          12.158400000000002,
          12.225000000000001,
          12.2916,
          12.358200000000002,
          12.424800000000001,
          12.491400000000002,
          12.558000000000002,
          12.624600000000001,
          12.6912,
          12.757800000000001,
          12.824400000000002,
          12.891000000000002,
          12.957600000000001,
          13.0242,
          13.090800000000002,
          13.157400000000003,
          13.224000000000002,
          13.290600000000001,
          13.3572,
          13.423800000000002,
          13.490400000000001,
          13.557000000000002,
          13.623600000000001,
          13.6902,
          13.756800000000002,
          13.823400000000001,
          13.890000000000002,
          13.956600000000002,
          14.023200000000001,
          14.089800000000002,
          14.156400000000001,
          14.223000000000003,
          14.289600000000002,
          14.356200000000001,
          14.422800000000002,
          14.489400000000002,
          14.556000000000003,
          14.622600000000002,
          14.689200000000001,
          14.7558,
          14.822400000000002,
          14.889000000000003,
          14.955600000000002,
          15.022200000000002,
          15.0888,
          15.155400000000002,
          15.222000000000001,
          15.288600000000002,
          15.355200000000002,
          15.421800000000001,
          15.488400000000002,
          15.555000000000001,
          15.621600000000003,
          15.688200000000002,
          15.754800000000001,
          15.821400000000002,
          15.888000000000002,
          15.954600000000003,
          16.0212,
          16.0878,
          16.154400000000003,
          16.221,
          16.2876,
          16.3542,
          16.4208,
          16.4874,
          16.554000000000002,
          16.620600000000003,
          16.6872,
          16.753800000000002,
          16.8204,
          16.887,
          16.9536,
          17.020200000000003,
          17.0868,
          17.1534,
          17.220000000000002,
          17.2866,
          17.3532,
          17.419800000000002,
          17.4864,
          17.553,
          17.619600000000002,
          17.686200000000003,
          17.7528,
          17.8194,
          17.886000000000003,
          17.9526,
          18.0192,
          18.0858,
          18.1524,
          18.219,
          18.285600000000002,
          18.352200000000003,
          18.4188,
          18.485400000000002,
          18.552,
          18.6186,
          18.685200000000002,
          18.7518,
          18.8184,
          18.885,
          18.951600000000003,
          19.018200000000004,
          19.0848,
          19.151400000000002,
          19.218,
          19.2846,
          19.351200000000002,
          19.4178,
          19.4844,
          19.551000000000002,
          19.617600000000003,
          19.6842,
          19.7508,
          19.8174,
          19.884,
          19.9506,
          20.017200000000003,
          20.0838,
          20.1504,
          20.217,
          20.2836,
          20.3502,
          20.416800000000002,
          20.4834,
          20.55,
          20.616600000000002,
          20.6832,
          20.7498,
          20.8164,
          20.883000000000003,
          20.9496,
          21.016199999999998,
          21.082800000000002,
          21.1494,
          21.216,
          21.282600000000002,
          21.3492,
          21.4158,
          21.4824,
          21.549000000000003,
          21.6156,
          21.682199999999998,
          21.748800000000003,
          21.8154,
          21.882,
          21.9486,
          22.0152,
          22.0818,
          22.1484,
          22.215000000000003,
          22.2816,
          22.3482,
          22.414800000000003,
          22.4814,
          22.548000000000002,
          22.6146,
          22.6812,
          22.7478,
          22.8144,
          22.881000000000004,
          22.9476,
          23.0142,
          23.0808,
          23.1474,
          23.214000000000002,
          23.2806,
          23.3472,
          23.413800000000002,
          23.4804,
          23.547,
          23.6136,
          23.6802,
          23.7468,
          23.8134,
          23.880000000000003,
          23.9466,
          24.0132,
          24.079800000000002,
          24.1464,
          24.213,
          24.279600000000002,
          24.346200000000003,
          24.4128,
          24.4794,
          24.546000000000003,
          24.6126,
          24.6792,
          24.745800000000003,
          24.8124,
          24.879,
          24.945600000000002,
          25.012200000000004,
          25.0788,
          25.1454,
          25.212000000000003,
          25.2786,
          25.345200000000002,
          25.411800000000003,
          25.4784,
          25.545,
          25.6116,
          25.678200000000004,
          25.7448,
          25.8114,
          25.878000000000004,
          25.9446,
          26.011200000000002,
          26.0778,
          26.1444,
          26.211000000000002,
          26.2776,
          26.344200000000004,
          26.410800000000002,
          26.4774,
          26.544,
          26.6106,
          26.677200000000003,
          26.7438,
          26.8104,
          26.877000000000002,
          26.9436,
          27.010200000000005,
          27.076800000000002,
          27.1434,
          27.21,
          27.276600000000002,
          27.343200000000003,
          27.4098,
          27.4764,
          27.543000000000003,
          27.6096,
          27.6762,
          27.742800000000003,
          27.8094,
          27.876,
          27.942600000000002,
          28.009200000000003,
          28.0758,
          28.1424,
          28.209000000000003,
          28.2756,
          28.342200000000002,
          28.408800000000003,
          28.4754,
          28.542,
          28.6086,
          28.675200000000004,
          28.7418,
          28.8084,
          28.875000000000004,
          28.9416,
          29.008200000000002,
          29.0748,
          29.1414,
          29.208000000000002,
          29.2746,
          29.341200000000004,
          29.4078,
          29.4744,
          29.541000000000004,
          29.6076,
          29.674200000000003,
          29.7408,
          29.807400000000005,
          29.874000000000002,
          29.9406,
          30.007200000000005,
          30.073800000000002,
          30.140400000000003,
          30.207,
          30.273600000000002,
          30.340200000000003,
          30.4068,
          30.473400000000005,
          30.540000000000003,
          30.6066,
          30.6732,
          30.739800000000002,
          30.806400000000004,
          30.873,
          30.939600000000002,
          31.006200000000003,
          31.0728,
          31.139400000000002,
          31.206000000000003,
          31.2726,
          31.3392,
          31.405800000000003,
          31.472400000000004,
          31.539,
          31.6056,
          31.672200000000004,
          31.7388,
          31.805400000000002,
          31.872000000000003,
          31.9386,
          32.0052,
          32.0718,
          32.138400000000004,
          32.205000000000005,
          32.2716,
          32.33820000000001,
          32.4048,
          32.4714,
          32.538000000000004,
          32.604600000000005,
          32.671200000000006,
          32.7378,
          32.80440000000001,
          32.871,
          32.9376,
          33.004200000000004,
          33.070800000000006,
          33.13740000000001,
          33.204,
          33.2706,
          33.3372,
          33.403800000000004,
          33.470400000000005,
          33.537000000000006,
          33.6036,
          33.6702,
          33.7368,
          33.8034,
          33.870000000000005,
          33.936600000000006,
          34.00320000000001,
          34.0698,
          34.13640000000001,
          34.203,
          34.269600000000004,
          34.336200000000005,
          34.402800000000006,
          34.46940000000001,
          34.536,
          34.6026,
          34.669200000000004,
          34.735800000000005,
          34.802400000000006,
          34.86900000000001,
          34.9356,
          35.0022,
          35.0688,
          35.135400000000004,
          35.202000000000005,
          35.268600000000006,
          35.33520000000001,
          35.4018,
          35.4684,
          35.535000000000004,
          35.601600000000005,
          35.668200000000006,
          35.7348,
          35.80140000000001,
          35.868,
          35.9346,
          36.001200000000004,
          36.0678,
          36.13440000000001,
          36.201,
          36.2676,
          36.3342,
          36.400800000000004,
          36.467400000000005,
          36.534,
          36.60060000000001,
          36.6672,
          36.7338,
          36.8004,
          36.867000000000004,
          36.933600000000006,
          37.0002,
          37.0668,
          37.1334
         ],
         "xaxis": "x",
         "y": [
          0.008498578117259787,
          0.008610462470867174,
          0.00872190406097833,
          0.008832859636893722,
          0.00894328622971115,
          0.00905314119353866,
          0.009162382246399616,
          0.009270967510785978,
          0.0093788555538172,
          0.009486005426963864,
          0.00959237670529654,
          0.009697929526222143,
          0.009802624627671577,
          0.00990642338570414,
          0.010009287851495768,
          0.010111180787679936,
          0.01021206570401147,
          0.01031190689232542,
          0.010410669460764469,
          0.010508319367250076,
          0.010604823452173995,
          0.010700149470288403,
          0.010794266121774133,
          0.010887143082468072,
          0.010978751033231959,
          0.01106906168844622,
          0.011158047823613512,
          0.011245683302058006,
          0.011331943100707205,
          0.011416803334944414,
          0.011500241282520602,
          0.011582235406515482,
          0.011662765377338192,
          0.011741812093758866,
          0.011819357702962873,
          0.011895385619620075,
          0.011969880543962062,
          0.012042828478860578,
          0.012114216745900862,
          0.01218403400044388,
          0.012252270245671642,
          0.01231891684561014,
          0.012383966537124381,
          0.012447413440880397,
          0.012509253071268942,
          0.012569482345285831,
          0.01262809959036387,
          0.01268510455115128,
          0.012740498395231715,
          0.012794283717780802,
          0.01284646454515428,
          0.012897046337402882,
          0.012946035989709007,
          0.012993441832740484,
          0.013039273631916776,
          0.01308354258558309,
          0.013126261322088115,
          0.013167443895761355,
          0.013207105781786278,
          0.013245263869965877,
          0.013281936457377784,
          0.01331714323991636,
          0.013350905302719913,
          0.013383245109481853,
          0.013414186490645208,
          0.013443754630480802,
          0.013471976053050297,
          0.013498878607056277,
          0.013524491449582558,
          0.01354884502872914,
          0.013571971065147355,
          0.013593902532482232,
          0.013614673636730284,
          0.013634319794522636,
          0.013652877610344772,
          0.013670384852705962,
          0.013686880429273013,
          0.013702404360984853,
          0.013716997755166181,
          0.013730702777660397,
          0.01374356262400387,
          0.013755621489665606,
          0.013766924539378405,
          0.013777517875589528,
          0.013787448506061081,
          0.013796764310652208,
          0.01380551400731744,
          0.01381374711735739,
          0.013821513929960174,
          0.013828865466073833,
          0.013835853441652122,
          0.013842530230317805,
          0.013848948825489607,
          0.013855162802020662,
          0.013861226277398173,
          0.013867193872555476,
          0.013873120672349387,
          0.013879062185757192,
          0.013885074305848783,
          0.013891213269590998,
          0.013897535617541982,
          0.01390409815349465,
          0.013910957904128971,
          0.01391817207873353,
          0.013925798029057397,
          0.013933893209353596,
          0.01394251513667577,
          0.013951721351489565,
          0.013961569378660197,
          0.013972116688877248,
          0.013983420660577287,
          0.013995538542424156,
          0.014008527416405962,
          0.01402244416160663,
          0.014037345418708677,
          0.014053287555282422,
          0.014070326631915164,
          0.014088518369232061,
          0.014107918115858434,
          0.014128580817371056,
          0.01415056098628352,
          0.014173912673108444,
          0.014198689438536303,
          0.014224944326768105,
          0.014252729840035854,
          0.01428209791434176,
          0.014313099896443778,
          0.014345786522111659,
          0.014380207895674057,
          0.014416413470873801,
          0.014454452033044317,
          0.014494371682616707,
          0.01453621981996283,
          0.014580043131575682,
          0.014625887577584653,
          0.014673798380598558,
          0.014723820015865887,
          0.014775996202736926,
          0.014830369897408671,
          0.014886983286929143,
          0.014945877784433532,
          0.015007094025580541,
          0.01507067186615335,
          0.01513665038078533,
          0.015205067862767069,
          0.015275961824887182,
          0.015349369001255695,
          0.01542532535005521,
          0.015503866057161515,
          0.015585025540571965,
          0.01566883745557666,
          0.015755334700604536,
          0.015844549423673457,
          0.01593651302937077,
          0.01603125618628826,
          0.016128808834833145,
          0.016229200195334716,
          0.0163324587763642,
          0.016438612383183997,
          0.016547688126240898,
          0.01665971242961683,
          0.016774711039349684,
          0.016892709031536307,
          0.017013730820129122,
          0.017137800164337958,
          0.017264940175548783,
          0.01739517332367132,
          0.017528521442828408,
          0.017665005736300997,
          0.017804646780643647,
          0.017947464528887257,
          0.0180934783127475,
          0.018242706843759296,
          0.018395168213260316,
          0.018550879891149022,
          0.0187098587233455,
          0.018872120927886676,
          0.019037682089590897,
          0.01920655715323024,
          0.019378760415153077,
          0.019554305513303324,
          0.019733205415587297,
          0.01991547240654328,
          0.020101118072274153,
          0.020290153283607587,
          0.020482588177454332,
          0.02067843213633934,
          0.020877693766086752,
          0.021080380871644582,
          0.02128650043104114,
          0.021496058567470572,
          0.02170906051951094,
          0.021925510609484215,
          0.02214541220997333,
          0.022368767708517815,
          0.02259557847051537,
          0.022825844800362653,
          0.023059565900875233,
          0.02329673983103214,
          0.02353736346209689,
          0.02378143243217245,
          0.0240289410992543,
          0.024279882492850853,
          0.024534248264246404,
          0.024792028635488423,
          0.025053212347184963,
          0.025317786605204697,
          0.025585737026377245,
          0.025857047583295427,
          0.0261317005483281,
          0.02640967643695476,
          0.02669095395053938,
          0.026975509918664854,
          0.027263319241152707,
          0.027554354829898417,
          0.027848587550654353,
          0.02814598616489781,
          0.028446517271922867,
          0.028750145251299417,
          0.029056832205844315,
          0.029366537905251948,
          0.029679219730534594,
          0.029994832619423577,
          0.03031332901288413,
          0.030634658802898725,
          0.030958769281673224,
          0.03128560509242191,
          0.03161510818188728,
          0.03194721775475018,
          0.032281870230086135,
          0.03261899920002214,
          0.03295853539074842,
          0.03330040662603652,
          0.03364453779341584,
          0.03399085081315621,
          0.03433926461020364,
          0.03468969508921341,
          0.03504205511282057,
          0.03539625448328693,
          0.035752199927657234,
          0.0361097950865565,
          0.03646894050675331,
          0.03682953363761192,
          0.03719146883154965,
          0.03755463734861146,
          0.03791892736526902,
          0.038284223987544636,
          0.03865040926855557,
          0.039017362230567926,
          0.03938495889164255,
          0.039753072296948966,
          0.04012157255481645,
          0.04049032687758453,
          0.04085919962730658,
          0.04122805236635471,
          0.04159674391296383,
          0.04196513040174693,
          0.0423330653492041,
          0.04270039972423964,
          0.04306698202369299,
          0.043432658352881556,
          0.043797272511142155,
          0.04416066608235131,
          0.04452267853039404,
          0.044883147299541466,
          0.045241907919688885,
          0.04559879411639561,
          0.04595363792565908,
          0.04630626981334553,
          0.04665651879918936,
          0.04700421258526578,
          0.04734917768882793,
          0.04769123957939423,
          0.04803022281995755,
          0.04836595121218237,
          0.04869824794544301,
          0.04902693574954841,
          0.049351837050989424,
          0.049672774132533626,
          0.04998956929598595,
          0.050302045027922536,
          0.0506100241681963,
          0.05091333008100627,
          0.05121178682831113,
          0.051505219345361904,
          0.051793453618119385,
          0.05207631686231526,
          0.05235363770390719,
          0.05262524636067355,
          0.05289097482468359,
          0.053150657045376956,
          0.05340412911297653,
          0.05365122944195565,
          0.053891798954276135,
          0.054125681262107296,
          0.05435272284973438,
          0.054572773254360045,
          0.05478568524550041,
          0.054991315002674804,
          0.055189522291087076,
          0.055380170634993967,
          0.05556312748845802,
          0.05573826440317966,
          0.05590545719310722,
          0.056064586095521896,
          0.05621553592829983,
          0.05635819624305374,
          0.05649246147386206,
          0.05661823108129641,
          0.05673540969146393,
          0.05684390722978624,
          0.05694363904924271,
          0.057034526052813735,
          0.057116494809866365,
          0.05718947766623302,
          0.057253412847743816,
          0.05730824455698176,
          0.05735392306304103,
          0.05739040478407866,
          0.05741765236246241,
          0.05743563473232933,
          0.057444327179381346,
          0.05744371139275932,
          0.05743377550884868,
          0.05741451414688513,
          0.05738592843624351,
          0.05734802603530786,
          0.05730082114183557,
          0.057244334494745655,
          0.05717859336727599,
          0.05710363155147195,
          0.05701948933398422,
          0.056926213463171796,
          0.05682385710752254,
          0.05671247980541974,
          0.0565921474063032,
          0.056462932003286684,
          0.05632491185731383,
          0.056178171312950886,
          0.05602280070592997,
          0.05585889626257611,
          0.05568655999126592,
          0.05550589956608177,
          0.05531702820284372,
          0.05512006452771456,
          0.05491513243858947,
          0.054702360959497674,
          0.05448188408825524,
          0.05425384063762579,
          0.054018374070254574,
          0.05377563232765797,
          0.053525767653560125,
          0.053268936411880775,
          0.05300529889968848,
          0.052735019155443145,
          0.052458264762862264,
          0.052175206650751295,
          0.05188601888914842,
          0.05159087848213899,
          0.051289965157701525,
          0.05098346115495246,
          0.050671551009159724,
          0.05035442133489938,
          0.05003226060773239,
          0.04970525894477806,
          0.04937360788456329,
          0.0490375001665256,
          0.048697129510545445,
          0.04835269039688395,
          0.04800437784689598,
          0.04765238720488718,
          0.047296913921476835,
          0.0469381533388249,
          0.046576300478073096,
          0.04621154982934426,
          0.045844095144635666,
          0.04547412923393401,
          0.045101843764868636,
          0.04472742906621214,
          0.044351073935525204,
          0.043972965451231354,
          0.04359328878939571,
          0.04321222704547035,
          0.0428299610612549,
          0.042446669257307494,
          0.04206252747102992,
          0.04167770880063345,
          0.04129238345518045,
          0.04090671861088029,
          0.04052087827380434,
          0.040135023149169974,
          0.039749310517326615,
          0.03936389411656459,
          0.038978924032849256,
          0.0385945465965696,
          0.03821090428637437,
          0.03782813564015388,
          0.03744637517321019,
          0.03706575330364357,
          0.036686396284969384,
          0.036308426145962906,
          0.035931960637717024,
          0.03555711318788404,
          0.035183992862056916,
          0.034812704332234885,
          0.034443347852303095,
          0.03407601924044504,
          0.03371080986839322,
          0.03334780665741323,
          0.03298709208090356,
          0.032628744173484776,
          0.0322728365464398,
          0.031919438409358736,
          0.03156861459783144,
          0.031220425607024344,
          0.030874927630967285,
          0.030532172607371823,
          0.030192208267793102,
          0.02985507819294316,
          0.02952082187295573,
          0.029189474772399776,
          0.028861068399832567,
          0.02853563038168049,
          0.028213184540231185,
          0.02789375097551882,
          0.02757734615088108,
          0.02726398298196569,
          0.026953670928961358,
          0.026646416091830008,
          0.026342221308312534,
          0.026041086254486315,
          0.025743007547647537,
          0.025447978851296803,
          0.0251559909820055,
          0.024867032017943703,
          0.02458108740885257,
          0.024298140087244936,
          0.024018170580625036,
          0.023741157124516837,
          0.02346707577609773,
          0.023195900528236484,
          0.022927603423739455,
          0.022662154669613147,
          0.022399522751155934,
          0.02213967454569727,
          0.021882575435807006,
          0.02162818942180334,
          0.021376479233393416,
          0.02112740644028613,
          0.02088093156162185,
          0.02063701417407071,
          0.020395613018456358,
          0.020156686104767826,
          0.019920190815429107,
          0.019686084006701094,
          0.019454322108098093,
          0.0192248612197048,
          0.018997657207289294,
          0.01877266579511049,
          0.018549842656326167,
          0.01832914350091407,
          0.01811052416102366,
          0.01789394067368286,
          0.017679349360789746,
          0.017466706906325,
          0.017255970430727317,
          0.017047097562378585,
          0.0168400465061529,
          0.016634776108987503,
          0.016431245922440163,
          0.016229416262202853,
          0.016029248264546398,
          0.015830703939676585,
          0.015633746221986843,
          0.015438339017197664,
          0.015244447246378589,
          0.015052036886851711,
          0.01486107500998217,
          0.014671529815864427,
          0.014483370664917915,
          0.01429656810641044,
          0.014111093903930652,
          0.013926921057837023,
          0.013744023824712409,
          0.013562377733859116,
          0.013381959600872283,
          0.013202747538332421,
          0.01302472096366319,
          0.012847860604201922,
          0.012672148499535305,
          0.012497568001154638,
          0.012324103769488845,
          0.012151741768376375,
          0.01198046925703897,
          0.011810274779624519,
          0.011641148152387423,
          0.01147308044857801,
          0.011306063981114818,
          0.011140092283115535,
          0.010975160086364743
         ],
         "yaxis": "y"
        },
        {
         "legendgroup": "Female",
         "marker": {
          "color": "#F66095"
         },
         "mode": "lines",
         "name": "Female",
         "showlegend": false,
         "type": "scatter",
         "x": [
          3.9,
          3.9504,
          4.0008,
          4.0512,
          4.1016,
          4.152,
          4.2024,
          4.2528,
          4.3032,
          4.3536,
          4.404,
          4.4544,
          4.5048,
          4.5552,
          4.6056,
          4.656,
          4.7064,
          4.7568,
          4.8072,
          4.8576,
          4.9079999999999995,
          4.9584,
          5.0088,
          5.0592,
          5.1096,
          5.16,
          5.2104,
          5.2608,
          5.3112,
          5.3616,
          5.412,
          5.4624,
          5.5128,
          5.5632,
          5.6136,
          5.664,
          5.7143999999999995,
          5.7648,
          5.8152,
          5.865600000000001,
          5.916,
          5.9664,
          6.0168,
          6.0672,
          6.1176,
          6.168,
          6.2184,
          6.268800000000001,
          6.3192,
          6.3696,
          6.42,
          6.4704,
          6.5207999999999995,
          6.5712,
          6.621600000000001,
          6.672000000000001,
          6.7224,
          6.7728,
          6.8232,
          6.8736,
          6.924,
          6.974400000000001,
          7.0248,
          7.075200000000001,
          7.1256,
          7.176,
          7.2264,
          7.2768,
          7.3272,
          7.3776,
          7.428000000000001,
          7.478400000000001,
          7.5288,
          7.5792,
          7.6296,
          7.68,
          7.7304,
          7.780800000000001,
          7.831200000000001,
          7.881600000000001,
          7.932,
          7.9824,
          8.0328,
          8.083200000000001,
          8.1336,
          8.184000000000001,
          8.2344,
          8.2848,
          8.3352,
          8.3856,
          8.436,
          8.4864,
          8.5368,
          8.587200000000001,
          8.6376,
          8.688,
          8.7384,
          8.7888,
          8.8392,
          8.8896,
          8.940000000000001,
          8.990400000000001,
          9.0408,
          9.0912,
          9.1416,
          9.192,
          9.2424,
          9.2928,
          9.343200000000001,
          9.393600000000001,
          9.444,
          9.4944,
          9.5448,
          9.5952,
          9.6456,
          9.696000000000002,
          9.746400000000001,
          9.796800000000001,
          9.8472,
          9.8976,
          9.948,
          9.9984,
          10.048800000000002,
          10.099200000000002,
          10.1496,
          10.200000000000001,
          10.2504,
          10.3008,
          10.3512,
          10.4016,
          10.452,
          10.5024,
          10.552800000000001,
          10.603200000000001,
          10.6536,
          10.704,
          10.7544,
          10.8048,
          10.8552,
          10.9056,
          10.956000000000001,
          11.006400000000001,
          11.0568,
          11.1072,
          11.1576,
          11.208,
          11.2584,
          11.308800000000002,
          11.359200000000001,
          11.409600000000001,
          11.46,
          11.5104,
          11.5608,
          11.6112,
          11.661600000000002,
          11.712000000000002,
          11.762400000000001,
          11.812800000000001,
          11.8632,
          11.913600000000002,
          11.964,
          12.0144,
          12.064800000000002,
          12.115200000000002,
          12.165600000000001,
          12.216000000000003,
          12.266400000000003,
          12.3168,
          12.3672,
          12.4176,
          12.468000000000002,
          12.518400000000002,
          12.568800000000001,
          12.619200000000001,
          12.6696,
          12.720000000000002,
          12.770400000000002,
          12.820800000000002,
          12.871200000000002,
          12.921600000000002,
          12.972000000000001,
          13.022400000000001,
          13.0728,
          13.1232,
          13.1736,
          13.224000000000002,
          13.274400000000002,
          13.324800000000002,
          13.375200000000001,
          13.425600000000001,
          13.476000000000003,
          13.526400000000002,
          13.576800000000002,
          13.6272,
          13.6776,
          13.728000000000002,
          13.778400000000001,
          13.828800000000001,
          13.8792,
          13.9296,
          13.980000000000002,
          14.030400000000002,
          14.080800000000002,
          14.131200000000002,
          14.181600000000001,
          14.232000000000003,
          14.282400000000003,
          14.3328,
          14.3832,
          14.4336,
          14.484000000000002,
          14.534400000000002,
          14.584800000000001,
          14.635200000000001,
          14.6856,
          14.736000000000002,
          14.786400000000002,
          14.836800000000002,
          14.887200000000002,
          14.937600000000002,
          14.988000000000001,
          15.038400000000001,
          15.0888,
          15.1392,
          15.189600000000002,
          15.240000000000002,
          15.290400000000002,
          15.340800000000002,
          15.391200000000001,
          15.441600000000003,
          15.492000000000003,
          15.542400000000002,
          15.592800000000002,
          15.6432,
          15.693600000000002,
          15.744000000000002,
          15.794400000000001,
          15.844800000000001,
          15.8952,
          15.945600000000002,
          15.996000000000002,
          16.046400000000002,
          16.0968,
          16.1472,
          16.1976,
          16.248,
          16.2984,
          16.3488,
          16.3992,
          16.4496,
          16.5,
          16.5504,
          16.6008,
          16.6512,
          16.701600000000003,
          16.752000000000002,
          16.802400000000002,
          16.852800000000002,
          16.903200000000002,
          16.9536,
          17.004,
          17.0544,
          17.1048,
          17.1552,
          17.2056,
          17.256,
          17.3064,
          17.3568,
          17.4072,
          17.457600000000003,
          17.508000000000003,
          17.558400000000002,
          17.608800000000002,
          17.6592,
          17.709600000000002,
          17.76,
          17.8104,
          17.8608,
          17.9112,
          17.9616,
          18.012,
          18.0624,
          18.1128,
          18.1632,
          18.213600000000003,
          18.264000000000003,
          18.314400000000003,
          18.3648,
          18.4152,
          18.465600000000002,
          18.516000000000002,
          18.5664,
          18.6168,
          18.6672,
          18.7176,
          18.768,
          18.8184,
          18.8688,
          18.919200000000004,
          18.969600000000003,
          19.02,
          19.0704,
          19.1208,
          19.171200000000002,
          19.221600000000002,
          19.272000000000002,
          19.322400000000002,
          19.3728,
          19.4232,
          19.4736,
          19.524,
          19.5744,
          19.6248,
          19.6752,
          19.7256,
          19.776,
          19.8264,
          19.8768,
          19.927200000000003,
          19.977600000000002,
          20.028,
          20.0784,
          20.1288,
          20.1792,
          20.2296,
          20.28,
          20.3304,
          20.3808,
          20.4312,
          20.4816,
          20.532000000000004,
          20.5824,
          20.632800000000003,
          20.6832,
          20.7336,
          20.784000000000002,
          20.8344,
          20.884800000000002,
          20.9352,
          20.9856,
          21.036,
          21.0864,
          21.1368,
          21.1872,
          21.2376,
          21.288000000000004,
          21.3384,
          21.3888,
          21.4392,
          21.4896,
          21.540000000000003,
          21.5904,
          21.640800000000002,
          21.6912,
          21.741600000000002,
          21.792,
          21.8424,
          21.8928,
          21.9432,
          21.9936,
          22.044,
          22.0944,
          22.1448,
          22.1952,
          22.2456,
          22.296000000000003,
          22.3464,
          22.396800000000002,
          22.4472,
          22.497600000000002,
          22.548000000000002,
          22.5984,
          22.6488,
          22.699199999999998,
          22.7496,
          22.8,
          22.8504,
          22.9008,
          22.9512,
          23.0016,
          23.052000000000003,
          23.1024,
          23.152800000000003,
          23.2032,
          23.253600000000002,
          23.304000000000002,
          23.3544,
          23.4048,
          23.455199999999998,
          23.5056,
          23.556,
          23.6064,
          23.6568,
          23.7072,
          23.7576,
          23.808000000000003,
          23.8584,
          23.908800000000003,
          23.9592,
          24.009600000000002,
          24.060000000000002,
          24.1104,
          24.160800000000002,
          24.211199999999998,
          24.2616,
          24.312,
          24.3624,
          24.4128,
          24.4632,
          24.5136,
          24.564000000000004,
          24.6144,
          24.664800000000003,
          24.7152,
          24.7656,
          24.816000000000003,
          24.8664,
          24.916800000000002,
          24.9672,
          25.0176,
          25.068,
          25.1184,
          25.1688,
          25.2192,
          25.2696,
          25.320000000000004,
          25.3704,
          25.4208,
          25.4712,
          25.5216,
          25.572000000000003,
          25.6224,
          25.672800000000002,
          25.7232,
          25.773600000000002,
          25.824,
          25.8744,
          25.9248,
          25.9752,
          26.0256,
          26.076,
          26.1264,
          26.1768,
          26.2272,
          26.2776,
          26.328000000000003,
          26.3784,
          26.428800000000003,
          26.479200000000002,
          26.529600000000002,
          26.580000000000002,
          26.6304,
          26.6808,
          26.7312,
          26.7816,
          26.832,
          26.8824,
          26.9328,
          26.983200000000004,
          27.0336,
          27.084000000000003,
          27.1344,
          27.184800000000003,
          27.235200000000003,
          27.285600000000002,
          27.336000000000002,
          27.3864,
          27.4368,
          27.4872,
          27.5376,
          27.588,
          27.6384,
          27.6888,
          27.739200000000004,
          27.7896,
          27.840000000000003,
          27.8904,
          27.940800000000003,
          27.991200000000003,
          28.041600000000003,
          28.092000000000002,
          28.1424,
          28.192800000000002,
          28.2432,
          28.2936,
          28.344,
          28.3944,
          28.4448,
          28.495200000000004,
          28.5456,
          28.596000000000004,
          28.6464,
          28.696800000000003,
          28.747200000000003,
          28.7976,
          28.848000000000003,
          28.8984,
          28.948800000000002,
          28.999200000000002,
          29.0496
         ],
         "xaxis": "x",
         "y": [
          0.010253422450991076,
          0.010401896080378321,
          0.010551058018710893,
          0.010700896732311659,
          0.010851400988670785,
          0.011002559854852217,
          0.011154362694375315,
          0.011306799162571832,
          0.011459859200423767,
          0.011613533026892777,
          0.01176781112975707,
          0.011922684254977063,
          0.012078143394616363,
          0.012234179773349908,
          0.012390784833596414,
          0.012547950219317426,
          0.012705667758530437,
          0.012863929444588664,
          0.013022727416284895,
          0.013182053936841765,
          0.013341901371855397,
          0.013502262166263978,
          0.01366312882041702,
          0.013824493865325352,
          0.013986349837175688,
          0.014148689251197367,
          0.014311504574972215,
          0.014474788201281768,
          0.014638532420588834,
          0.01480272939325307,
          0.014967371121582505,
          0.01513244942182482,
          0.015297955896203972,
          0.0154638819051089,
          0.015630218539542055,
          0.015796956593936075,
          0.015964086539447107,
          0.01613159849783314,
          0.016299482216025264,
          0.016467727041498643,
          0.016636321898549036,
          0.016805255265578765,
          0.016974515153494085,
          0.017144089085313684,
          0.017313964077084958,
          0.017484126620201802,
          0.017654562665214278,
          0.017825257607216306,
          0.01799619627289385,
          0.018167362909311233,
          0.018338741174508653,
          0.018510314129978785,
          0.018682064235085043,
          0.018853973343478516,
          0.019026022701564557,
          0.019198192949064205,
          0.019370464121709067,
          0.01954281565610201,
          0.019715226396769224,
          0.019887674605422602,
          0.020060137972444478,
          0.02023259363059959,
          0.020405018170972355,
          0.020577387661120397,
          0.020749677665427915,
          0.020921863267635777,
          0.021093919095517895,
          0.021265819347666345,
          0.021437537822341136,
          0.0216090479483333,
          0.021780322817783616,
          0.021951335220892418,
          0.02212205768244994,
          0.022292462500110168,
          0.022462521784325538,
          0.022632207499853826,
          0.02280149150874342,
          0.022970345614697914,
          0.02313874160871615,
          0.023306651315899308,
          0.023474046643312457,
          0.023640899628784334,
          0.023807182490525353,
          0.02397286767744115,
          0.024137927920015786,
          0.024302336281637204,
          0.024466066210234512,
          0.024629091590096658,
          0.0247913867937394,
          0.024952926733688253,
          0.025113686914043903,
          0.025273643481697104,
          0.02543277327706095,
          0.025591053884188794,
          0.025748463680148086,
          0.025904981883522055,
          0.026060588601913078,
          0.02621526487832468,
          0.026368992736301538,
          0.02652175522371074,
          0.0266735364550505,
          0.0268243216521774,
          0.026974097183346552,
          0.02712285060046453,
          0.0272705706744592,
          0.02741724742867595,
          0.02756287217021512,
          0.027707437519131028,
          0.02785093743541871,
          0.0279933672437204,
          0.02813472365569003,
          0.028275004789959847,
          0.028414210189660217,
          0.028552340837449217,
          0.02868939916801597,
          0.028825389078027442,
          0.028960315933495195,
          0.0290941865745454,
          0.029227009317581206,
          0.029358793954833456,
          0.0294895517513022,
          0.029619295439096922,
          0.029748039209190613,
          0.029875798700607865,
          0.030002590987073675,
          0.030128434561154924,
          0.030253349315932154,
          0.0303773565242448,
          0.03050047881555759,
          0.030622740150501444,
          0.030744165793146063,
          0.0308647822810667,
          0.030984617393270936,
          0.03110370011605566,
          0.031222060606868288,
          0.03133973015624905,
          0.03145674114793493,
          0.03157312701720806,
          0.031688922207574875,
          0.03180416212586346,
          0.031918883095829576,
          0.03203312231036303,
          0.032146917782388075,
          0.03226030829455194,
          0.03237333334779762,
          0.03248603310891705,
          0.03259844835718163,
          0.03271062043014698,
          0.03282259116872987,
          0.03293440286165321,
          0.03304609818935699,
          0.03315772016747025,
          0.03326931208994011,
          0.03338091747191191,
          0.03349257999245382,
          0.03360434343721806,
          0.033716251641129374,
          0.03382834843118972,
          0.033940677569486925,
          0.03405328269649276,
          0.03416620727473447,
          0.03427949453292143,
          0.03439318741060712,
          0.03450732850346368,
          0.034621960009244966,
          0.03473712367451134,
          0.0348528607421869,
          0.03496921190001851,
          0.03508621723000207,
          0.03520391615884082,
          0.03532234740949645,
          0.03544154895389258,
          0.03556155796682693,
          0.03568241078114643,
          0.03580414284423668,
          0.035926788675875176,
          0.03605038182749461,
          0.03617495484290065,
          0.03630053922048539,
          0.036427165376975816,
          0.03655486261275354,
          0.03668365907877996,
          0.0368135817451579,
          0.03694465637135877,
          0.03707690747814116,
          0.03721035832118487,
          0.03734503086646059,
          0.037480945767354196,
          0.03761812234356081,
          0.037756578561761525,
          0.03789633101809315,
          0.03803739492241792,
          0.03817978408439811,
          0.03832351090137694,
          0.03846858634806468,
          0.03861501996802592,
          0.03876281986696068,
          0.03891199270776993,
          0.03906254370739148,
          0.039214476635391,
          0.039367793814288614,
          0.03952249612159864,
          0.03967858299355723,
          0.039836052430509174,
          0.03999490100392205,
          0.040155123864993134,
          0.04031671475481023,
          0.04047966601602607,
          0.0406439686060007,
          0.040809612111365565,
          0.040976584763957435,
          0.04114487345806924,
          0.04131446376896073,
          0.041485339972569354,
          0.04165748506635909,
          0.04183088079124153,
          0.042005507654501666,
          0.042181344953657815,
          0.042358370801182675,
          0.042536562150010726,
          0.042715894819753956,
          0.042896343523547875,
          0.04307788189544565,
          0.04326048251827885,
          0.043444116951900036,
          0.04362875576172306,
          0.04381436854747448,
          0.04400092397206994,
          0.044188389790528575,
          0.04437673287883783,
          0.04456591926268299,
          0.044755914145953264,
          0.04494668193894049,
          0.04513818628614417,
          0.0453303900936007,
          0.04552325555565401,
          0.045716744181088766,
          0.045910816818547924,
          0.04610543368116022,
          0.04630055437030522,
          0.04649613789844703,
          0.046692142710972065,
          0.04688852670696834,
          0.04708524725888978,
          0.04728226123105186,
          0.047479524996910986,
          0.047676994455083395,
          0.047874625044066116,
          0.048072371755626606,
          0.04827018914683425,
          0.04846803135071225,
          0.048665852085494773,
          0.048863604662479916,
          0.04906124199247641,
          0.049258716590846886,
          0.0494559805811586,
          0.0496529856974585,
          0.04984968328519593,
          0.05004602430082313,
          0.0502419593101117,
          0.05043743848522691,
          0.050632411600611715,
          0.05082682802773675,
          0.05102063672877979,
          0.05121378624930388,
          0.051406224710010884,
          0.05159789979765075,
          0.05178875875517591,
          0.05197874837123156,
          0.05216781496908193,
          0.052355904395074114,
          0.05254296200674876,
          0.05272893266070788,
          0.052913760700357006,
          0.05309738994364033,
          0.05327976367089165,
          0.05346082461292625,
          0.053640514939500936,
          0.0538187762482719,
          0.053995549554379865,
          0.054170775280795565,
          0.05434439324955544,
          0.054516342674020356,
          0.054686562152287475,
          0.05485498966188536,
          0.05502156255587976,
          0.05518621756051684,
          0.05534889077452534,
          0.05550951767019906,
          0.05566803309637457,
          0.05582437128341638,
          0.05597846585031679,
          0.05613024981401193,
          0.05627965560101053,
          0.05642661506142533,
          0.0565710594854904,
          0.05671291962264179,
          0.05685212570322994,
          0.056988607462925674,
          0.05712229416987306,
          0.05725311465463482,
          0.05738099734296604,
          0.05750587029144396,
          0.057627661225972036,
          0.05774629758316781,
          0.057861706554632686,
          0.05797381513409511,
          0.05808255016740538,
          0.05818783840535349,
          0.05828960655926901,
          0.058387781359354456,
          0.05848228961569147,
          0.05857305828185067,
          0.058660014521026406,
          0.058743085774606824,
          0.058822199833081866,
          0.05889728490918075,
          0.05896826971312376,
          0.05903508352986147,
          0.059097656298169356,
          0.05915591869145513,
          0.05920980220012902,
          0.05925923921538087,
          0.05930416311419925,
          0.0593445083454631,
          0.05938021051692797,
          0.059411206482926165,
          0.05943743443259236,
          0.05945883397842354,
          0.05947534624497669,
          0.05948691395750591,
          0.05949348153033499,
          0.059494995154762795,
          0.059491402886292885,
          0.05948265473098152,
          0.05946870273069546,
          0.059449501047070384,
          0.05942500604396449,
          0.05939517636819947,
          0.05935997302838549,
          0.05931935947162813,
          0.05927330165791913,
          0.05922176813201499,
          0.05916473009261408,
          0.059102161458645226,
          0.059034038932488035,
          0.05896034205995032,
          0.05888105328683432,
          0.05879615801193118,
          0.05870564463628944,
          0.05860950460861236,
          0.058507732466646284,
          0.05840032587443233,
          0.05828728565530073,
          0.05816861582049948,
          0.05804432359335591,
          0.05791441942888256,
          0.05777891702874742,
          0.057637833351539894,
          0.05749118861827541,
          0.057339006313091065,
          0.057181313179098386,
          0.057018139209367984,
          0.05684951763303437,
          0.056675484896520065,
          0.05649608063988927,
          0.056311347668353426,
          0.05612133191896267,
          0.055926082422527675,
          0.055725651260828714,
          0.055520093519179435,
          0.05530946723442398,
          0.05509383333845632,
          0.05487325559736245,
          0.05464780054629532,
          0.05441753742020251,
          0.05418253808053688,
          0.05394287693808952,
          0.0536986308720926,
          0.05344987914575042,
          0.05319670331836113,
          0.052939187154205196,
          0.05267741652837735,
          0.052411479329751466,
          0.05214146536126958,
          0.05186746623775543,
          0.05158957528145569,
          0.051307887415518616,
          0.0510224990556233,
          0.05073350799997512,
          0.05044101331788975,
          0.050145115237185796,
          0.049845915030611455,
          0.04954351490153199,
          0.04923801786910239,
          0.04892952765315448,
          0.04861814855902326,
          0.048303985362538514,
          0.047987143195406576,
          0.047667727431203066,
          0.04734584357219721,
          0.04702159713722321,
          0.046695093550812306,
          0.04636643803379312,
          0.046035735495565236,
          0.04570309042824402,
          0.045368606802869964,
          0.045032387967869826,
          0.044694536549950606,
          0.044355154357598486,
          0.04401434228735128,
          0.043672200233001356,
          0.04332882699788064,
          0.04298432021036987,
          0.0426387762427656,
          0.04229229013363035,
          0.04194495551374132,
          0.04159686453574332,
          0.041248107807604094,
          0.04089877432995779,
          0.04054895143741422,
          0.04019872474390137,
          0.03984817809209722,
          0.039497393506999295,
          0.03914645115366727,
          0.03879542929916642,
          0.038444404278727466,
          0.03809345046612985,
          0.03774264024830421,
          0.037392044004141346,
          0.037041730087483016,
          0.03669176481426303,
          0.03634221245375496,
          0.03599313522387586,
          0.03564459329048346,
          0.035296644770600225,
          0.03494934573948289,
          0.034602750241453456,
          0.03425691030439664,
          0.03391187595782201,
          0.03356769525438144,
          0.03322441429472646,
          0.03288207725558206,
          0.032540726420909744,
          0.032200402216023265,
          0.031861143244519496,
          0.03152298632787824,
          0.031185966547582284,
          0.030850117289604764,
          0.03051547029110647,
          0.03018205568918386,
          0.029849902071504203,
          0.029519036528664024,
          0.029189484708102988,
          0.028861270869406583,
          0.0285344179408271,
          0.02820894757685555,
          0.027884880216672996,
          0.02756223514331486,
          0.027241030543378272,
          0.026921283567107206,
          0.026603010388690302,
          0.026286226266608308,
          0.0259709456038719,
          0.025657182007991986,
          0.0253449483505295,
          0.025034256826074044,
          0.0247251190105058,
          0.024417545918398984,
          0.024111548059429857,
          0.02380713549365739,
          0.023504317885550297,
          0.023203104556638692,
          0.02290350453667589,
          0.0226055266132003,
          0.022309179379394736,
          0.022014471280146827,
          0.02172141065621927,
          0.021430005786448415,
          0.021140264927892453,
          0.02085219635386165,
          0.020565808389766575,
          0.020281109446729645,
          0.019998108052911603,
          0.019716812882511217,
          0.01943723278240481,
          0.01915937679639818,
          0.01888325418707151,
          0.018608874455204136,
          0.018336247356773704,
          0.01806538291752995,
          0.017796291445152462,
          0.017528983539004447,
          0.017263470097505864,
          0.016999762323151098,
          0.016737871725205265,
          0.016477810120118553,
          0.016219589629702522,
          0.015963222677120043,
          0.01570872198074303
         ],
         "yaxis": "y"
        },
        {
         "legendgroup": "Male",
         "marker": {
          "color": "#2BCDC1",
          "symbol": "line-ns-open"
         },
         "mode": "markers",
         "name": "Male",
         "showlegend": false,
         "type": "scatter",
         "x": [
          25.3,
          27.3,
          31.2,
          34.2,
          37.2,
          23.4,
          25.3,
          27.3,
          31.2,
          34.2,
          25.3,
          27.3,
          31.2,
          34.2,
          37.2,
          24.2,
          26.1,
          27,
          28.9,
          30.8,
          22.7,
          24.2,
          26.1,
          27,
          28.9,
          22.7,
          24.2,
          26.1,
          27,
          28.9,
          21.2,
          22.7,
          24.2,
          26.1,
          27,
          18.7,
          21.2,
          22.7,
          24.2,
          26.1,
          16.7,
          18.7,
          21.2,
          10,
          13.3,
          16.7,
          20,
          21.2,
          5.6,
          8.3,
          10,
          13.3,
          16.7,
          3.9,
          5.6,
          8.3
         ],
         "xaxis": "x",
         "y": [
          "Male",
          "Male",
          "Male",
          "Male",
          "Male",
          "Male",
          "Male",
          "Male",
          "Male",
          "Male",
          "Male",
          "Male",
          "Male",
          "Male",
          "Male",
          "Male",
          "Male",
          "Male",
          "Male",
          "Male",
          "Male",
          "Male",
          "Male",
          "Male",
          "Male",
          "Male",
          "Male",
          "Male",
          "Male",
          "Male",
          "Male",
          "Male",
          "Male",
          "Male",
          "Male",
          "Male",
          "Male",
          "Male",
          "Male",
          "Male",
          "Male",
          "Male",
          "Male",
          "Male",
          "Male",
          "Male",
          "Male",
          "Male",
          "Male",
          "Male",
          "Male",
          "Male",
          "Male",
          "Male",
          "Male",
          "Male"
         ],
         "yaxis": "y2"
        },
        {
         "legendgroup": "Female",
         "marker": {
          "color": "#F66095",
          "symbol": "line-ns-open"
         },
         "mode": "markers",
         "name": "Female",
         "showlegend": false,
         "type": "scatter",
         "x": [
          22.5,
          20,
          16.7,
          13.3,
          10,
          20,
          22.5,
          20,
          16.7,
          13.3,
          22.5,
          20,
          16.7,
          13.3,
          21.2,
          25,
          27.5,
          29.1,
          18.7,
          21.2,
          22.7,
          25,
          27.5,
          18.7,
          21.2,
          22.7,
          25,
          27.5,
          16.7,
          18.7,
          21.2,
          22.7,
          25,
          13.3,
          16.7,
          20,
          22.5,
          23.4,
          10,
          13.3,
          8.3,
          10,
          16.7,
          16.7,
          16.7,
          5.6,
          8.3,
          10,
          13.3,
          10,
          3.9,
          5.6
         ],
         "xaxis": "x",
         "y": [
          "Female",
          "Female",
          "Female",
          "Female",
          "Female",
          "Female",
          "Female",
          "Female",
          "Female",
          "Female",
          "Female",
          "Female",
          "Female",
          "Female",
          "Female",
          "Female",
          "Female",
          "Female",
          "Female",
          "Female",
          "Female",
          "Female",
          "Female",
          "Female",
          "Female",
          "Female",
          "Female",
          "Female",
          "Female",
          "Female",
          "Female",
          "Female",
          "Female",
          "Female",
          "Female",
          "Female",
          "Female",
          "Female",
          "Female",
          "Female",
          "Female",
          "Female",
          "Female",
          "Female",
          "Female",
          "Female",
          "Female",
          "Female",
          "Female",
          "Female",
          "Female",
          "Female"
         ],
         "yaxis": "y2"
        }
       ],
       "layout": {
        "barmode": "overlay",
        "hovermode": "closest",
        "legend": {
         "traceorder": "reversed"
        },
        "template": {
         "data": {
          "bar": [
           {
            "error_x": {
             "color": "#2a3f5f"
            },
            "error_y": {
             "color": "#2a3f5f"
            },
            "marker": {
             "line": {
              "color": "#E5ECF6",
              "width": 0.5
             },
             "pattern": {
              "fillmode": "overlay",
              "size": 10,
              "solidity": 0.2
             }
            },
            "type": "bar"
           }
          ],
          "barpolar": [
           {
            "marker": {
             "line": {
              "color": "#E5ECF6",
              "width": 0.5
             },
             "pattern": {
              "fillmode": "overlay",
              "size": 10,
              "solidity": 0.2
             }
            },
            "type": "barpolar"
           }
          ],
          "carpet": [
           {
            "aaxis": {
             "endlinecolor": "#2a3f5f",
             "gridcolor": "white",
             "linecolor": "white",
             "minorgridcolor": "white",
             "startlinecolor": "#2a3f5f"
            },
            "baxis": {
             "endlinecolor": "#2a3f5f",
             "gridcolor": "white",
             "linecolor": "white",
             "minorgridcolor": "white",
             "startlinecolor": "#2a3f5f"
            },
            "type": "carpet"
           }
          ],
          "choropleth": [
           {
            "colorbar": {
             "outlinewidth": 0,
             "ticks": ""
            },
            "type": "choropleth"
           }
          ],
          "contour": [
           {
            "colorbar": {
             "outlinewidth": 0,
             "ticks": ""
            },
            "colorscale": [
             [
              0,
              "#0d0887"
             ],
             [
              0.1111111111111111,
              "#46039f"
             ],
             [
              0.2222222222222222,
              "#7201a8"
             ],
             [
              0.3333333333333333,
              "#9c179e"
             ],
             [
              0.4444444444444444,
              "#bd3786"
             ],
             [
              0.5555555555555556,
              "#d8576b"
             ],
             [
              0.6666666666666666,
              "#ed7953"
             ],
             [
              0.7777777777777778,
              "#fb9f3a"
             ],
             [
              0.8888888888888888,
              "#fdca26"
             ],
             [
              1,
              "#f0f921"
             ]
            ],
            "type": "contour"
           }
          ],
          "contourcarpet": [
           {
            "colorbar": {
             "outlinewidth": 0,
             "ticks": ""
            },
            "type": "contourcarpet"
           }
          ],
          "heatmap": [
           {
            "colorbar": {
             "outlinewidth": 0,
             "ticks": ""
            },
            "colorscale": [
             [
              0,
              "#0d0887"
             ],
             [
              0.1111111111111111,
              "#46039f"
             ],
             [
              0.2222222222222222,
              "#7201a8"
             ],
             [
              0.3333333333333333,
              "#9c179e"
             ],
             [
              0.4444444444444444,
              "#bd3786"
             ],
             [
              0.5555555555555556,
              "#d8576b"
             ],
             [
              0.6666666666666666,
              "#ed7953"
             ],
             [
              0.7777777777777778,
              "#fb9f3a"
             ],
             [
              0.8888888888888888,
              "#fdca26"
             ],
             [
              1,
              "#f0f921"
             ]
            ],
            "type": "heatmap"
           }
          ],
          "heatmapgl": [
           {
            "colorbar": {
             "outlinewidth": 0,
             "ticks": ""
            },
            "colorscale": [
             [
              0,
              "#0d0887"
             ],
             [
              0.1111111111111111,
              "#46039f"
             ],
             [
              0.2222222222222222,
              "#7201a8"
             ],
             [
              0.3333333333333333,
              "#9c179e"
             ],
             [
              0.4444444444444444,
              "#bd3786"
             ],
             [
              0.5555555555555556,
              "#d8576b"
             ],
             [
              0.6666666666666666,
              "#ed7953"
             ],
             [
              0.7777777777777778,
              "#fb9f3a"
             ],
             [
              0.8888888888888888,
              "#fdca26"
             ],
             [
              1,
              "#f0f921"
             ]
            ],
            "type": "heatmapgl"
           }
          ],
          "histogram": [
           {
            "marker": {
             "pattern": {
              "fillmode": "overlay",
              "size": 10,
              "solidity": 0.2
             }
            },
            "type": "histogram"
           }
          ],
          "histogram2d": [
           {
            "colorbar": {
             "outlinewidth": 0,
             "ticks": ""
            },
            "colorscale": [
             [
              0,
              "#0d0887"
             ],
             [
              0.1111111111111111,
              "#46039f"
             ],
             [
              0.2222222222222222,
              "#7201a8"
             ],
             [
              0.3333333333333333,
              "#9c179e"
             ],
             [
              0.4444444444444444,
              "#bd3786"
             ],
             [
              0.5555555555555556,
              "#d8576b"
             ],
             [
              0.6666666666666666,
              "#ed7953"
             ],
             [
              0.7777777777777778,
              "#fb9f3a"
             ],
             [
              0.8888888888888888,
              "#fdca26"
             ],
             [
              1,
              "#f0f921"
             ]
            ],
            "type": "histogram2d"
           }
          ],
          "histogram2dcontour": [
           {
            "colorbar": {
             "outlinewidth": 0,
             "ticks": ""
            },
            "colorscale": [
             [
              0,
              "#0d0887"
             ],
             [
              0.1111111111111111,
              "#46039f"
             ],
             [
              0.2222222222222222,
              "#7201a8"
             ],
             [
              0.3333333333333333,
              "#9c179e"
             ],
             [
              0.4444444444444444,
              "#bd3786"
             ],
             [
              0.5555555555555556,
              "#d8576b"
             ],
             [
              0.6666666666666666,
              "#ed7953"
             ],
             [
              0.7777777777777778,
              "#fb9f3a"
             ],
             [
              0.8888888888888888,
              "#fdca26"
             ],
             [
              1,
              "#f0f921"
             ]
            ],
            "type": "histogram2dcontour"
           }
          ],
          "mesh3d": [
           {
            "colorbar": {
             "outlinewidth": 0,
             "ticks": ""
            },
            "type": "mesh3d"
           }
          ],
          "parcoords": [
           {
            "line": {
             "colorbar": {
              "outlinewidth": 0,
              "ticks": ""
             }
            },
            "type": "parcoords"
           }
          ],
          "pie": [
           {
            "automargin": true,
            "type": "pie"
           }
          ],
          "scatter": [
           {
            "fillpattern": {
             "fillmode": "overlay",
             "size": 10,
             "solidity": 0.2
            },
            "type": "scatter"
           }
          ],
          "scatter3d": [
           {
            "line": {
             "colorbar": {
              "outlinewidth": 0,
              "ticks": ""
             }
            },
            "marker": {
             "colorbar": {
              "outlinewidth": 0,
              "ticks": ""
             }
            },
            "type": "scatter3d"
           }
          ],
          "scattercarpet": [
           {
            "marker": {
             "colorbar": {
              "outlinewidth": 0,
              "ticks": ""
             }
            },
            "type": "scattercarpet"
           }
          ],
          "scattergeo": [
           {
            "marker": {
             "colorbar": {
              "outlinewidth": 0,
              "ticks": ""
             }
            },
            "type": "scattergeo"
           }
          ],
          "scattergl": [
           {
            "marker": {
             "colorbar": {
              "outlinewidth": 0,
              "ticks": ""
             }
            },
            "type": "scattergl"
           }
          ],
          "scattermapbox": [
           {
            "marker": {
             "colorbar": {
              "outlinewidth": 0,
              "ticks": ""
             }
            },
            "type": "scattermapbox"
           }
          ],
          "scatterpolar": [
           {
            "marker": {
             "colorbar": {
              "outlinewidth": 0,
              "ticks": ""
             }
            },
            "type": "scatterpolar"
           }
          ],
          "scatterpolargl": [
           {
            "marker": {
             "colorbar": {
              "outlinewidth": 0,
              "ticks": ""
             }
            },
            "type": "scatterpolargl"
           }
          ],
          "scatterternary": [
           {
            "marker": {
             "colorbar": {
              "outlinewidth": 0,
              "ticks": ""
             }
            },
            "type": "scatterternary"
           }
          ],
          "surface": [
           {
            "colorbar": {
             "outlinewidth": 0,
             "ticks": ""
            },
            "colorscale": [
             [
              0,
              "#0d0887"
             ],
             [
              0.1111111111111111,
              "#46039f"
             ],
             [
              0.2222222222222222,
              "#7201a8"
             ],
             [
              0.3333333333333333,
              "#9c179e"
             ],
             [
              0.4444444444444444,
              "#bd3786"
             ],
             [
              0.5555555555555556,
              "#d8576b"
             ],
             [
              0.6666666666666666,
              "#ed7953"
             ],
             [
              0.7777777777777778,
              "#fb9f3a"
             ],
             [
              0.8888888888888888,
              "#fdca26"
             ],
             [
              1,
              "#f0f921"
             ]
            ],
            "type": "surface"
           }
          ],
          "table": [
           {
            "cells": {
             "fill": {
              "color": "#EBF0F8"
             },
             "line": {
              "color": "white"
             }
            },
            "header": {
             "fill": {
              "color": "#C8D4E3"
             },
             "line": {
              "color": "white"
             }
            },
            "type": "table"
           }
          ]
         },
         "layout": {
          "annotationdefaults": {
           "arrowcolor": "#2a3f5f",
           "arrowhead": 0,
           "arrowwidth": 1
          },
          "autotypenumbers": "strict",
          "coloraxis": {
           "colorbar": {
            "outlinewidth": 0,
            "ticks": ""
           }
          },
          "colorscale": {
           "diverging": [
            [
             0,
             "#8e0152"
            ],
            [
             0.1,
             "#c51b7d"
            ],
            [
             0.2,
             "#de77ae"
            ],
            [
             0.3,
             "#f1b6da"
            ],
            [
             0.4,
             "#fde0ef"
            ],
            [
             0.5,
             "#f7f7f7"
            ],
            [
             0.6,
             "#e6f5d0"
            ],
            [
             0.7,
             "#b8e186"
            ],
            [
             0.8,
             "#7fbc41"
            ],
            [
             0.9,
             "#4d9221"
            ],
            [
             1,
             "#276419"
            ]
           ],
           "sequential": [
            [
             0,
             "#0d0887"
            ],
            [
             0.1111111111111111,
             "#46039f"
            ],
            [
             0.2222222222222222,
             "#7201a8"
            ],
            [
             0.3333333333333333,
             "#9c179e"
            ],
            [
             0.4444444444444444,
             "#bd3786"
            ],
            [
             0.5555555555555556,
             "#d8576b"
            ],
            [
             0.6666666666666666,
             "#ed7953"
            ],
            [
             0.7777777777777778,
             "#fb9f3a"
            ],
            [
             0.8888888888888888,
             "#fdca26"
            ],
            [
             1,
             "#f0f921"
            ]
           ],
           "sequentialminus": [
            [
             0,
             "#0d0887"
            ],
            [
             0.1111111111111111,
             "#46039f"
            ],
            [
             0.2222222222222222,
             "#7201a8"
            ],
            [
             0.3333333333333333,
             "#9c179e"
            ],
            [
             0.4444444444444444,
             "#bd3786"
            ],
            [
             0.5555555555555556,
             "#d8576b"
            ],
            [
             0.6666666666666666,
             "#ed7953"
            ],
            [
             0.7777777777777778,
             "#fb9f3a"
            ],
            [
             0.8888888888888888,
             "#fdca26"
            ],
            [
             1,
             "#f0f921"
            ]
           ]
          },
          "colorway": [
           "#636efa",
           "#EF553B",
           "#00cc96",
           "#ab63fa",
           "#FFA15A",
           "#19d3f3",
           "#FF6692",
           "#B6E880",
           "#FF97FF",
           "#FECB52"
          ],
          "font": {
           "color": "#2a3f5f"
          },
          "geo": {
           "bgcolor": "white",
           "lakecolor": "white",
           "landcolor": "#E5ECF6",
           "showlakes": true,
           "showland": true,
           "subunitcolor": "white"
          },
          "hoverlabel": {
           "align": "left"
          },
          "hovermode": "closest",
          "mapbox": {
           "style": "light"
          },
          "paper_bgcolor": "white",
          "plot_bgcolor": "#E5ECF6",
          "polar": {
           "angularaxis": {
            "gridcolor": "white",
            "linecolor": "white",
            "ticks": ""
           },
           "bgcolor": "#E5ECF6",
           "radialaxis": {
            "gridcolor": "white",
            "linecolor": "white",
            "ticks": ""
           }
          },
          "scene": {
           "xaxis": {
            "backgroundcolor": "#E5ECF6",
            "gridcolor": "white",
            "gridwidth": 2,
            "linecolor": "white",
            "showbackground": true,
            "ticks": "",
            "zerolinecolor": "white"
           },
           "yaxis": {
            "backgroundcolor": "#E5ECF6",
            "gridcolor": "white",
            "gridwidth": 2,
            "linecolor": "white",
            "showbackground": true,
            "ticks": "",
            "zerolinecolor": "white"
           },
           "zaxis": {
            "backgroundcolor": "#E5ECF6",
            "gridcolor": "white",
            "gridwidth": 2,
            "linecolor": "white",
            "showbackground": true,
            "ticks": "",
            "zerolinecolor": "white"
           }
          },
          "shapedefaults": {
           "line": {
            "color": "#2a3f5f"
           }
          },
          "ternary": {
           "aaxis": {
            "gridcolor": "white",
            "linecolor": "white",
            "ticks": ""
           },
           "baxis": {
            "gridcolor": "white",
            "linecolor": "white",
            "ticks": ""
           },
           "bgcolor": "#E5ECF6",
           "caxis": {
            "gridcolor": "white",
            "linecolor": "white",
            "ticks": ""
           }
          },
          "title": {
           "x": 0.05
          },
          "xaxis": {
           "automargin": true,
           "gridcolor": "white",
           "linecolor": "white",
           "ticks": "",
           "title": {
            "standoff": 15
           },
           "zerolinecolor": "white",
           "zerolinewidth": 2
          },
          "yaxis": {
           "automargin": true,
           "gridcolor": "white",
           "linecolor": "white",
           "ticks": "",
           "title": {
            "standoff": 15
           },
           "zerolinecolor": "white",
           "zerolinewidth": 2
          }
         }
        },
        "title": {
         "text": "BMI distribution"
        },
        "xaxis": {
         "anchor": "y2",
         "domain": [
          0,
          1
         ],
         "zeroline": false
        },
        "yaxis": {
         "anchor": "free",
         "domain": [
          0.35,
          1
         ],
         "position": 0
        },
        "yaxis2": {
         "anchor": "x",
         "domain": [
          0,
          0.25
         ],
         "dtick": 1,
         "showticklabels": false
        }
       }
      }
     },
     "metadata": {},
     "output_type": "display_data"
    }
   ],
   "source": [
    "import plotly.figure_factory as ff\n",
    "\n",
    "fig=ff.create_distplot([df[df['Gender']=='Male']['BMI'],df[df['Gender']=='Female']['BMI']],['Male','Female'],colors=['#2BCDC1','#F66095'])\n",
    "fig.update_layout(title_text='BMI distribution')\n",
    "fig.show()"
   ]
  },
  {
   "cell_type": "code",
   "execution_count": 26,
   "metadata": {},
   "outputs": [
    {
     "data": {
      "text/html": [
       "<div>\n",
       "<style scoped>\n",
       "    .dataframe tbody tr th:only-of-type {\n",
       "        vertical-align: middle;\n",
       "    }\n",
       "\n",
       "    .dataframe tbody tr th {\n",
       "        vertical-align: top;\n",
       "    }\n",
       "\n",
       "    .dataframe thead th {\n",
       "        text-align: right;\n",
       "    }\n",
       "</style>\n",
       "<table border=\"1\" class=\"dataframe\">\n",
       "  <thead>\n",
       "    <tr style=\"text-align: right;\">\n",
       "      <th></th>\n",
       "      <th>Age</th>\n",
       "      <th>Height</th>\n",
       "      <th>Weight</th>\n",
       "      <th>BMI</th>\n",
       "      <th>Gender_Female</th>\n",
       "      <th>Gender_Male</th>\n",
       "      <th>Label_Normal Weight</th>\n",
       "      <th>Label_Obese</th>\n",
       "      <th>Label_Overweight</th>\n",
       "      <th>Label_Underweight</th>\n",
       "    </tr>\n",
       "  </thead>\n",
       "  <tbody>\n",
       "    <tr>\n",
       "      <th>0</th>\n",
       "      <td>25</td>\n",
       "      <td>175</td>\n",
       "      <td>80</td>\n",
       "      <td>25.3</td>\n",
       "      <td>0</td>\n",
       "      <td>1</td>\n",
       "      <td>1</td>\n",
       "      <td>0</td>\n",
       "      <td>0</td>\n",
       "      <td>0</td>\n",
       "    </tr>\n",
       "    <tr>\n",
       "      <th>1</th>\n",
       "      <td>30</td>\n",
       "      <td>160</td>\n",
       "      <td>60</td>\n",
       "      <td>22.5</td>\n",
       "      <td>1</td>\n",
       "      <td>0</td>\n",
       "      <td>1</td>\n",
       "      <td>0</td>\n",
       "      <td>0</td>\n",
       "      <td>0</td>\n",
       "    </tr>\n",
       "    <tr>\n",
       "      <th>2</th>\n",
       "      <td>35</td>\n",
       "      <td>180</td>\n",
       "      <td>90</td>\n",
       "      <td>27.3</td>\n",
       "      <td>0</td>\n",
       "      <td>1</td>\n",
       "      <td>0</td>\n",
       "      <td>0</td>\n",
       "      <td>1</td>\n",
       "      <td>0</td>\n",
       "    </tr>\n",
       "    <tr>\n",
       "      <th>3</th>\n",
       "      <td>40</td>\n",
       "      <td>150</td>\n",
       "      <td>50</td>\n",
       "      <td>20.0</td>\n",
       "      <td>1</td>\n",
       "      <td>0</td>\n",
       "      <td>0</td>\n",
       "      <td>0</td>\n",
       "      <td>0</td>\n",
       "      <td>1</td>\n",
       "    </tr>\n",
       "    <tr>\n",
       "      <th>4</th>\n",
       "      <td>45</td>\n",
       "      <td>190</td>\n",
       "      <td>100</td>\n",
       "      <td>31.2</td>\n",
       "      <td>0</td>\n",
       "      <td>1</td>\n",
       "      <td>0</td>\n",
       "      <td>1</td>\n",
       "      <td>0</td>\n",
       "      <td>0</td>\n",
       "    </tr>\n",
       "  </tbody>\n",
       "</table>\n",
       "</div>"
      ],
      "text/plain": [
       "   Age  Height  Weight   BMI  Gender_Female  Gender_Male  Label_Normal Weight  \\\n",
       "0   25     175      80  25.3              0            1                    1   \n",
       "1   30     160      60  22.5              1            0                    1   \n",
       "2   35     180      90  27.3              0            1                    0   \n",
       "3   40     150      50  20.0              1            0                    0   \n",
       "4   45     190     100  31.2              0            1                    0   \n",
       "\n",
       "   Label_Obese  Label_Overweight  Label_Underweight  \n",
       "0            0                 0                  0  \n",
       "1            0                 0                  0  \n",
       "2            0                 1                  0  \n",
       "3            0                 0                  1  \n",
       "4            1                 0                  0  "
      ]
     },
     "execution_count": 26,
     "metadata": {},
     "output_type": "execute_result"
    }
   ],
   "source": [
    "df2=df.drop('ID',axis=1)\n",
    "df2=pd.get_dummies(df2)\n",
    "df2.head()"
   ]
  },
  {
   "cell_type": "code",
   "execution_count": 27,
   "metadata": {},
   "outputs": [],
   "source": [
    "from sklearn.preprocessing import LabelEncoder\n",
    "le = LabelEncoder()\n",
    "#Convert categorical variable into integers \n",
    "df3=df.copy()\n",
    "df3['Gender'] = le.fit_transform(df3['Gender'])"
   ]
  },
  {
   "cell_type": "code",
   "execution_count": 28,
   "metadata": {},
   "outputs": [
    {
     "data": {
      "text/html": [
       "<div>\n",
       "<style scoped>\n",
       "    .dataframe tbody tr th:only-of-type {\n",
       "        vertical-align: middle;\n",
       "    }\n",
       "\n",
       "    .dataframe tbody tr th {\n",
       "        vertical-align: top;\n",
       "    }\n",
       "\n",
       "    .dataframe thead th {\n",
       "        text-align: right;\n",
       "    }\n",
       "</style>\n",
       "<table border=\"1\" class=\"dataframe\">\n",
       "  <thead>\n",
       "    <tr style=\"text-align: right;\">\n",
       "      <th></th>\n",
       "      <th>ID</th>\n",
       "      <th>Age</th>\n",
       "      <th>Gender</th>\n",
       "      <th>Height</th>\n",
       "      <th>Weight</th>\n",
       "      <th>BMI</th>\n",
       "      <th>Label</th>\n",
       "    </tr>\n",
       "  </thead>\n",
       "  <tbody>\n",
       "    <tr>\n",
       "      <th>0</th>\n",
       "      <td>1</td>\n",
       "      <td>25</td>\n",
       "      <td>1</td>\n",
       "      <td>175</td>\n",
       "      <td>80</td>\n",
       "      <td>25.3</td>\n",
       "      <td>Normal Weight</td>\n",
       "    </tr>\n",
       "    <tr>\n",
       "      <th>1</th>\n",
       "      <td>2</td>\n",
       "      <td>30</td>\n",
       "      <td>0</td>\n",
       "      <td>160</td>\n",
       "      <td>60</td>\n",
       "      <td>22.5</td>\n",
       "      <td>Normal Weight</td>\n",
       "    </tr>\n",
       "    <tr>\n",
       "      <th>2</th>\n",
       "      <td>3</td>\n",
       "      <td>35</td>\n",
       "      <td>1</td>\n",
       "      <td>180</td>\n",
       "      <td>90</td>\n",
       "      <td>27.3</td>\n",
       "      <td>Overweight</td>\n",
       "    </tr>\n",
       "  </tbody>\n",
       "</table>\n",
       "</div>"
      ],
      "text/plain": [
       "   ID  Age  Gender  Height  Weight   BMI          Label\n",
       "0   1   25       1     175      80  25.3  Normal Weight\n",
       "1   2   30       0     160      60  22.5  Normal Weight\n",
       "2   3   35       1     180      90  27.3     Overweight"
      ]
     },
     "execution_count": 28,
     "metadata": {},
     "output_type": "execute_result"
    }
   ],
   "source": [
    "df3.head(3)"
   ]
  },
  {
   "cell_type": "code",
   "execution_count": 29,
   "metadata": {},
   "outputs": [
    {
     "data": {
      "text/plain": [
       "(11, 112)"
      ]
     },
     "execution_count": 29,
     "metadata": {},
     "output_type": "execute_result"
    }
   ],
   "source": [
    "# Age binning\n",
    "df4=df.copy()\n",
    "df4['Age'].min(),df4['Age'].max()"
   ]
  },
  {
   "cell_type": "code",
   "execution_count": 30,
   "metadata": {},
   "outputs": [
    {
     "data": {
      "text/html": [
       "<div>\n",
       "<style scoped>\n",
       "    .dataframe tbody tr th:only-of-type {\n",
       "        vertical-align: middle;\n",
       "    }\n",
       "\n",
       "    .dataframe tbody tr th {\n",
       "        vertical-align: top;\n",
       "    }\n",
       "\n",
       "    .dataframe thead th {\n",
       "        text-align: right;\n",
       "    }\n",
       "</style>\n",
       "<table border=\"1\" class=\"dataframe\">\n",
       "  <thead>\n",
       "    <tr style=\"text-align: right;\">\n",
       "      <th></th>\n",
       "      <th>ID</th>\n",
       "      <th>Age</th>\n",
       "      <th>Gender</th>\n",
       "      <th>Height</th>\n",
       "      <th>Weight</th>\n",
       "      <th>BMI</th>\n",
       "      <th>Label</th>\n",
       "      <th>Age_bins</th>\n",
       "    </tr>\n",
       "  </thead>\n",
       "  <tbody>\n",
       "    <tr>\n",
       "      <th>0</th>\n",
       "      <td>1</td>\n",
       "      <td>25</td>\n",
       "      <td>Male</td>\n",
       "      <td>175</td>\n",
       "      <td>80</td>\n",
       "      <td>25.3</td>\n",
       "      <td>Normal Weight</td>\n",
       "      <td>(20, 40]</td>\n",
       "    </tr>\n",
       "    <tr>\n",
       "      <th>1</th>\n",
       "      <td>2</td>\n",
       "      <td>30</td>\n",
       "      <td>Female</td>\n",
       "      <td>160</td>\n",
       "      <td>60</td>\n",
       "      <td>22.5</td>\n",
       "      <td>Normal Weight</td>\n",
       "      <td>(20, 40]</td>\n",
       "    </tr>\n",
       "    <tr>\n",
       "      <th>2</th>\n",
       "      <td>3</td>\n",
       "      <td>35</td>\n",
       "      <td>Male</td>\n",
       "      <td>180</td>\n",
       "      <td>90</td>\n",
       "      <td>27.3</td>\n",
       "      <td>Overweight</td>\n",
       "      <td>(20, 40]</td>\n",
       "    </tr>\n",
       "  </tbody>\n",
       "</table>\n",
       "</div>"
      ],
      "text/plain": [
       "   ID  Age  Gender  Height  Weight   BMI          Label  Age_bins\n",
       "0   1   25    Male     175      80  25.3  Normal Weight  (20, 40]\n",
       "1   2   30  Female     160      60  22.5  Normal Weight  (20, 40]\n",
       "2   3   35    Male     180      90  27.3     Overweight  (20, 40]"
      ]
     },
     "execution_count": 30,
     "metadata": {},
     "output_type": "execute_result"
    }
   ],
   "source": [
    "bins=[0,20,40,60,80,100,200]\n",
    "df4['Age_bins']=pd.cut(df4['Age'],bins)\n",
    "df4.head(3)"
   ]
  },
  {
   "cell_type": "code",
   "execution_count": 31,
   "metadata": {},
   "outputs": [
    {
     "data": {
      "image/png": "[encoded data removed]",
      "text/plain": [
       "<Figure size 600.25x500 with 1 Axes>"
      ]
     },
     "metadata": {},
     "output_type": "display_data"
    },
    {
     "data": {
      "image/png": "[encoded data removed]",
      "text/plain": [
       "<Figure size 600.25x500 with 1 Axes>"
      ]
     },
     "metadata": {},
     "output_type": "display_data"
    }
   ],
   "source": [
    "sns.lmplot(x='Weight',y='Height',hue='Gender',data=df4,palette='Set1')\n",
    "plt.title('Weight vs Height')\n",
    "plt.show()\n",
    "\n",
    "sns.lmplot(x='Weight',y='BMI',hue='Gender',data=df4,palette='Set1')\n",
    "plt.title('Weight vs BMI among Gender')\n",
    "plt.show()\n"
   ]
  },
  {
   "cell_type": "markdown",
   "metadata": {},
   "source": [
    "## Classification using K-means clustering"
   ]
  },
  {
   "cell_type": "code",
   "execution_count": 32,
   "metadata": {},
   "outputs": [
    {
     "data": {
      "text/html": [
       "<div>\n",
       "<style scoped>\n",
       "    .dataframe tbody tr th:only-of-type {\n",
       "        vertical-align: middle;\n",
       "    }\n",
       "\n",
       "    .dataframe tbody tr th {\n",
       "        vertical-align: top;\n",
       "    }\n",
       "\n",
       "    .dataframe thead th {\n",
       "        text-align: right;\n",
       "    }\n",
       "</style>\n",
       "<table border=\"1\" class=\"dataframe\">\n",
       "  <thead>\n",
       "    <tr style=\"text-align: right;\">\n",
       "      <th></th>\n",
       "      <th>ID</th>\n",
       "      <th>Age</th>\n",
       "      <th>Gender</th>\n",
       "      <th>Height</th>\n",
       "      <th>Weight</th>\n",
       "      <th>BMI</th>\n",
       "      <th>Label</th>\n",
       "    </tr>\n",
       "  </thead>\n",
       "  <tbody>\n",
       "    <tr>\n",
       "      <th>0</th>\n",
       "      <td>1</td>\n",
       "      <td>25</td>\n",
       "      <td>Male</td>\n",
       "      <td>175</td>\n",
       "      <td>80</td>\n",
       "      <td>25.3</td>\n",
       "      <td>Normal Weight</td>\n",
       "    </tr>\n",
       "    <tr>\n",
       "      <th>1</th>\n",
       "      <td>2</td>\n",
       "      <td>30</td>\n",
       "      <td>Female</td>\n",
       "      <td>160</td>\n",
       "      <td>60</td>\n",
       "      <td>22.5</td>\n",
       "      <td>Normal Weight</td>\n",
       "    </tr>\n",
       "    <tr>\n",
       "      <th>2</th>\n",
       "      <td>3</td>\n",
       "      <td>35</td>\n",
       "      <td>Male</td>\n",
       "      <td>180</td>\n",
       "      <td>90</td>\n",
       "      <td>27.3</td>\n",
       "      <td>Overweight</td>\n",
       "    </tr>\n",
       "  </tbody>\n",
       "</table>\n",
       "</div>"
      ],
      "text/plain": [
       "   ID  Age  Gender  Height  Weight   BMI          Label\n",
       "0   1   25    Male     175      80  25.3  Normal Weight\n",
       "1   2   30  Female     160      60  22.5  Normal Weight\n",
       "2   3   35    Male     180      90  27.3     Overweight"
      ]
     },
     "execution_count": 32,
     "metadata": {},
     "output_type": "execute_result"
    }
   ],
   "source": [
    "df.head(3)"
   ]
  },
  {
   "cell_type": "code",
   "execution_count": 33,
   "metadata": {},
   "outputs": [],
   "source": [
    "df5=df.copy()\n",
    "df5['Gender'] = le.fit_transform(df5['Gender'])\n",
    "df5['Label'] = le.fit_transform(df5['Label'])"
   ]
  },
  {
   "cell_type": "code",
   "execution_count": 34,
   "metadata": {},
   "outputs": [],
   "source": [
    "X=df5.drop('ID',axis=1)\n",
    "y=df5['Label']"
   ]
  },
  {
   "cell_type": "code",
   "execution_count": 35,
   "metadata": {},
   "outputs": [
    {
     "name": "stderr",
     "output_type": "stream",
     "text": [
      "c:\\Users\\User\\Documents\\anaconda\\lib\\site-packages\\sklearn\\cluster\\_kmeans.py:870: FutureWarning:\n",
      "\n",
      "The default value of `n_init` will change from 10 to 'auto' in 1.4. Set the value of `n_init` explicitly to suppress the warning\n",
      "\n"
     ]
    },
    {
     "name": "stderr",
     "output_type": "stream",
     "text": [
      "c:\\Users\\User\\Documents\\anaconda\\lib\\site-packages\\sklearn\\cluster\\_kmeans.py:1382: UserWarning:\n",
      "\n",
      "KMeans is known to have a memory leak on Windows with MKL, when there are less chunks than available threads. You can avoid it by setting the environment variable OMP_NUM_THREADS=1.\n",
      "\n",
      "c:\\Users\\User\\Documents\\anaconda\\lib\\site-packages\\sklearn\\cluster\\_kmeans.py:870: FutureWarning:\n",
      "\n",
      "The default value of `n_init` will change from 10 to 'auto' in 1.4. Set the value of `n_init` explicitly to suppress the warning\n",
      "\n",
      "c:\\Users\\User\\Documents\\anaconda\\lib\\site-packages\\sklearn\\cluster\\_kmeans.py:1382: UserWarning:\n",
      "\n",
      "KMeans is known to have a memory leak on Windows with MKL, when there are less chunks than available threads. You can avoid it by setting the environment variable OMP_NUM_THREADS=1.\n",
      "\n",
      "c:\\Users\\User\\Documents\\anaconda\\lib\\site-packages\\sklearn\\cluster\\_kmeans.py:870: FutureWarning:\n",
      "\n",
      "The default value of `n_init` will change from 10 to 'auto' in 1.4. Set the value of `n_init` explicitly to suppress the warning\n",
      "\n",
      "c:\\Users\\User\\Documents\\anaconda\\lib\\site-packages\\sklearn\\cluster\\_kmeans.py:1382: UserWarning:\n",
      "\n",
      "KMeans is known to have a memory leak on Windows with MKL, when there are less chunks than available threads. You can avoid it by setting the environment variable OMP_NUM_THREADS=1.\n",
      "\n",
      "c:\\Users\\User\\Documents\\anaconda\\lib\\site-packages\\sklearn\\cluster\\_kmeans.py:870: FutureWarning:\n",
      "\n",
      "The default value of `n_init` will change from 10 to 'auto' in 1.4. Set the value of `n_init` explicitly to suppress the warning\n",
      "\n",
      "c:\\Users\\User\\Documents\\anaconda\\lib\\site-packages\\sklearn\\cluster\\_kmeans.py:1382: UserWarning:\n",
      "\n",
      "KMeans is known to have a memory leak on Windows with MKL, when there are less chunks than available threads. You can avoid it by setting the environment variable OMP_NUM_THREADS=1.\n",
      "\n",
      "c:\\Users\\User\\Documents\\anaconda\\lib\\site-packages\\sklearn\\cluster\\_kmeans.py:870: FutureWarning:\n",
      "\n",
      "The default value of `n_init` will change from 10 to 'auto' in 1.4. Set the value of `n_init` explicitly to suppress the warning\n",
      "\n",
      "c:\\Users\\User\\Documents\\anaconda\\lib\\site-packages\\sklearn\\cluster\\_kmeans.py:1382: UserWarning:\n",
      "\n",
      "KMeans is known to have a memory leak on Windows with MKL, when there are less chunks than available threads. You can avoid it by setting the environment variable OMP_NUM_THREADS=1.\n",
      "\n",
      "c:\\Users\\User\\Documents\\anaconda\\lib\\site-packages\\sklearn\\cluster\\_kmeans.py:870: FutureWarning:\n",
      "\n",
      "The default value of `n_init` will change from 10 to 'auto' in 1.4. Set the value of `n_init` explicitly to suppress the warning\n",
      "\n",
      "c:\\Users\\User\\Documents\\anaconda\\lib\\site-packages\\sklearn\\cluster\\_kmeans.py:1382: UserWarning:\n",
      "\n",
      "KMeans is known to have a memory leak on Windows with MKL, when there are less chunks than available threads. You can avoid it by setting the environment variable OMP_NUM_THREADS=1.\n",
      "\n",
      "c:\\Users\\User\\Documents\\anaconda\\lib\\site-packages\\sklearn\\cluster\\_kmeans.py:870: FutureWarning:\n",
      "\n",
      "The default value of `n_init` will change from 10 to 'auto' in 1.4. Set the value of `n_init` explicitly to suppress the warning\n",
      "\n",
      "c:\\Users\\User\\Documents\\anaconda\\lib\\site-packages\\sklearn\\cluster\\_kmeans.py:1382: UserWarning:\n",
      "\n",
      "KMeans is known to have a memory leak on Windows with MKL, when there are less chunks than available threads. You can avoid it by setting the environment variable OMP_NUM_THREADS=1.\n",
      "\n",
      "c:\\Users\\User\\Documents\\anaconda\\lib\\site-packages\\sklearn\\cluster\\_kmeans.py:870: FutureWarning:\n",
      "\n",
      "The default value of `n_init` will change from 10 to 'auto' in 1.4. Set the value of `n_init` explicitly to suppress the warning\n",
      "\n",
      "c:\\Users\\User\\Documents\\anaconda\\lib\\site-packages\\sklearn\\cluster\\_kmeans.py:1382: UserWarning:\n",
      "\n",
      "KMeans is known to have a memory leak on Windows with MKL, when there are less chunks than available threads. You can avoid it by setting the environment variable OMP_NUM_THREADS=1.\n",
      "\n",
      "c:\\Users\\User\\Documents\\anaconda\\lib\\site-packages\\sklearn\\cluster\\_kmeans.py:870: FutureWarning:\n",
      "\n",
      "The default value of `n_init` will change from 10 to 'auto' in 1.4. Set the value of `n_init` explicitly to suppress the warning\n",
      "\n",
      "c:\\Users\\User\\Documents\\anaconda\\lib\\site-packages\\sklearn\\cluster\\_kmeans.py:1382: UserWarning:\n",
      "\n",
      "KMeans is known to have a memory leak on Windows with MKL, when there are less chunks than available threads. You can avoid it by setting the environment variable OMP_NUM_THREADS=1.\n",
      "\n",
      "c:\\Users\\User\\Documents\\anaconda\\lib\\site-packages\\sklearn\\cluster\\_kmeans.py:870: FutureWarning:\n",
      "\n",
      "The default value of `n_init` will change from 10 to 'auto' in 1.4. Set the value of `n_init` explicitly to suppress the warning\n",
      "\n",
      "c:\\Users\\User\\Documents\\anaconda\\lib\\site-packages\\sklearn\\cluster\\_kmeans.py:1382: UserWarning:\n",
      "\n",
      "KMeans is known to have a memory leak on Windows with MKL, when there are less chunks than available threads. You can avoid it by setting the environment variable OMP_NUM_THREADS=1.\n",
      "\n",
      "c:\\Users\\User\\Documents\\anaconda\\lib\\site-packages\\sklearn\\cluster\\_kmeans.py:870: FutureWarning:\n",
      "\n",
      "The default value of `n_init` will change from 10 to 'auto' in 1.4. Set the value of `n_init` explicitly to suppress the warning\n",
      "\n",
      "c:\\Users\\User\\Documents\\anaconda\\lib\\site-packages\\sklearn\\cluster\\_kmeans.py:1382: UserWarning:\n",
      "\n",
      "KMeans is known to have a memory leak on Windows with MKL, when there are less chunks than available threads. You can avoid it by setting the environment variable OMP_NUM_THREADS=1.\n",
      "\n",
      "c:\\Users\\User\\Documents\\anaconda\\lib\\site-packages\\sklearn\\cluster\\_kmeans.py:870: FutureWarning:\n",
      "\n",
      "The default value of `n_init` will change from 10 to 'auto' in 1.4. Set the value of `n_init` explicitly to suppress the warning\n",
      "\n",
      "c:\\Users\\User\\Documents\\anaconda\\lib\\site-packages\\sklearn\\cluster\\_kmeans.py:1382: UserWarning:\n",
      "\n",
      "KMeans is known to have a memory leak on Windows with MKL, when there are less chunks than available threads. You can avoid it by setting the environment variable OMP_NUM_THREADS=1.\n",
      "\n",
      "c:\\Users\\User\\Documents\\anaconda\\lib\\site-packages\\sklearn\\cluster\\_kmeans.py:870: FutureWarning:\n",
      "\n",
      "The default value of `n_init` will change from 10 to 'auto' in 1.4. Set the value of `n_init` explicitly to suppress the warning\n",
      "\n",
      "c:\\Users\\User\\Documents\\anaconda\\lib\\site-packages\\sklearn\\cluster\\_kmeans.py:1382: UserWarning:\n",
      "\n",
      "KMeans is known to have a memory leak on Windows with MKL, when there are less chunks than available threads. You can avoid it by setting the environment variable OMP_NUM_THREADS=1.\n",
      "\n",
      "c:\\Users\\User\\Documents\\anaconda\\lib\\site-packages\\sklearn\\cluster\\_kmeans.py:870: FutureWarning:\n",
      "\n",
      "The default value of `n_init` will change from 10 to 'auto' in 1.4. Set the value of `n_init` explicitly to suppress the warning\n",
      "\n",
      "c:\\Users\\User\\Documents\\anaconda\\lib\\site-packages\\sklearn\\cluster\\_kmeans.py:1382: UserWarning:\n",
      "\n",
      "KMeans is known to have a memory leak on Windows with MKL, when there are less chunks than available threads. You can avoid it by setting the environment variable OMP_NUM_THREADS=1.\n",
      "\n",
      "c:\\Users\\User\\Documents\\anaconda\\lib\\site-packages\\sklearn\\cluster\\_kmeans.py:870: FutureWarning:\n",
      "\n",
      "The default value of `n_init` will change from 10 to 'auto' in 1.4. Set the value of `n_init` explicitly to suppress the warning\n",
      "\n",
      "c:\\Users\\User\\Documents\\anaconda\\lib\\site-packages\\sklearn\\cluster\\_kmeans.py:1382: UserWarning:\n",
      "\n",
      "KMeans is known to have a memory leak on Windows with MKL, when there are less chunks than available threads. You can avoid it by setting the environment variable OMP_NUM_THREADS=1.\n",
      "\n",
      "c:\\Users\\User\\Documents\\anaconda\\lib\\site-packages\\sklearn\\cluster\\_kmeans.py:870: FutureWarning:\n",
      "\n",
      "The default value of `n_init` will change from 10 to 'auto' in 1.4. Set the value of `n_init` explicitly to suppress the warning\n",
      "\n",
      "c:\\Users\\User\\Documents\\anaconda\\lib\\site-packages\\sklearn\\cluster\\_kmeans.py:1382: UserWarning:\n",
      "\n",
      "KMeans is known to have a memory leak on Windows with MKL, when there are less chunks than available threads. You can avoid it by setting the environment variable OMP_NUM_THREADS=1.\n",
      "\n",
      "c:\\Users\\User\\Documents\\anaconda\\lib\\site-packages\\sklearn\\cluster\\_kmeans.py:870: FutureWarning:\n",
      "\n",
      "The default value of `n_init` will change from 10 to 'auto' in 1.4. Set the value of `n_init` explicitly to suppress the warning\n",
      "\n",
      "c:\\Users\\User\\Documents\\anaconda\\lib\\site-packages\\sklearn\\cluster\\_kmeans.py:1382: UserWarning:\n",
      "\n",
      "KMeans is known to have a memory leak on Windows with MKL, when there are less chunks than available threads. You can avoid it by setting the environment variable OMP_NUM_THREADS=1.\n",
      "\n",
      "c:\\Users\\User\\Documents\\anaconda\\lib\\site-packages\\sklearn\\cluster\\_kmeans.py:870: FutureWarning:\n",
      "\n",
      "The default value of `n_init` will change from 10 to 'auto' in 1.4. Set the value of `n_init` explicitly to suppress the warning\n",
      "\n",
      "c:\\Users\\User\\Documents\\anaconda\\lib\\site-packages\\sklearn\\cluster\\_kmeans.py:1382: UserWarning:\n",
      "\n",
      "KMeans is known to have a memory leak on Windows with MKL, when there are less chunks than available threads. You can avoid it by setting the environment variable OMP_NUM_THREADS=1.\n",
      "\n",
      "c:\\Users\\User\\Documents\\anaconda\\lib\\site-packages\\sklearn\\cluster\\_kmeans.py:870: FutureWarning:\n",
      "\n",
      "The default value of `n_init` will change from 10 to 'auto' in 1.4. Set the value of `n_init` explicitly to suppress the warning\n",
      "\n",
      "c:\\Users\\User\\Documents\\anaconda\\lib\\site-packages\\sklearn\\cluster\\_kmeans.py:1382: UserWarning:\n",
      "\n",
      "KMeans is known to have a memory leak on Windows with MKL, when there are less chunks than available threads. You can avoid it by setting the environment variable OMP_NUM_THREADS=1.\n",
      "\n"
     ]
    },
    {
     "data": {
      "image/png": "[encoded data removed]",
      "text/plain": [
       "<Figure size 1000x500 with 1 Axes>"
      ]
     },
     "metadata": {},
     "output_type": "display_data"
    }
   ],
   "source": [
    "dist_list=[]\n",
    "for i in range(1,20):\n",
    "  kmeans=KMeans(n_clusters=i,init='random',random_state=101)\n",
    "  kmeans.fit(X)\n",
    "  dist_list.append(kmeans.inertia_)\n",
    "\n",
    "plt.figure(figsize=(10,5))\n",
    "plt.plot(range(1,20),dist_list,marker='+')\n",
    "plt.xlabel('Number of clusters')\n",
    "plt.ylabel('Distortion')\n",
    "plt.show()"
   ]
  },
  {
   "cell_type": "code",
   "execution_count": 36,
   "metadata": {},
   "outputs": [
    {
     "name": "stderr",
     "output_type": "stream",
     "text": [
      "c:\\Users\\User\\Documents\\anaconda\\lib\\site-packages\\sklearn\\cluster\\_kmeans.py:870: FutureWarning:\n",
      "\n",
      "The default value of `n_init` will change from 10 to 'auto' in 1.4. Set the value of `n_init` explicitly to suppress the warning\n",
      "\n",
      "c:\\Users\\User\\Documents\\anaconda\\lib\\site-packages\\sklearn\\cluster\\_kmeans.py:1382: UserWarning:\n",
      "\n",
      "KMeans is known to have a memory leak on Windows with MKL, when there are less chunks than available threads. You can avoid it by setting the environment variable OMP_NUM_THREADS=1.\n",
      "\n"
     ]
    },
    {
     "name": "stdout",
     "output_type": "stream",
     "text": [
      "n_clusters=4: 56 out of 108 samples were correctly labeled.\n",
      "Accuracy score: 0.52\n"
     ]
    }
   ],
   "source": [
    "kmeans4=KMeans(n_clusters=4,random_state=101)\n",
    "\n",
    "kmeans4.fit(X)\n",
    "\n",
    "labels=kmeans4.labels_\n",
    "\n",
    "correct_labels=sum(y==labels)\n",
    "print('n_clusters=4: %d out of %d samples were correctly labeled.' % (correct_labels,y.size))\n",
    "print('Accuracy score: {0:0.2f}'.format(correct_labels/float(y.size)))"
   ]
  },
  {
   "cell_type": "code",
   "execution_count": 37,
   "metadata": {},
   "outputs": [],
   "source": [
    "labels=pd.Series(kmeans4.labels_,name='cluster_number')"
   ]
  },
  {
   "cell_type": "code",
   "execution_count": 38,
   "metadata": {},
   "outputs": [
    {
     "data": {
      "text/html": [
       "<div>\n",
       "<style scoped>\n",
       "    .dataframe tbody tr th:only-of-type {\n",
       "        vertical-align: middle;\n",
       "    }\n",
       "\n",
       "    .dataframe tbody tr th {\n",
       "        vertical-align: top;\n",
       "    }\n",
       "\n",
       "    .dataframe thead th {\n",
       "        text-align: right;\n",
       "    }\n",
       "</style>\n",
       "<table border=\"1\" class=\"dataframe\">\n",
       "  <thead>\n",
       "    <tr style=\"text-align: right;\">\n",
       "      <th></th>\n",
       "      <th>ID</th>\n",
       "      <th>Age</th>\n",
       "      <th>Gender</th>\n",
       "      <th>Height</th>\n",
       "      <th>Weight</th>\n",
       "      <th>BMI</th>\n",
       "      <th>Label</th>\n",
       "      <th>cluster_number</th>\n",
       "    </tr>\n",
       "  </thead>\n",
       "  <tbody>\n",
       "    <tr>\n",
       "      <th>0</th>\n",
       "      <td>1</td>\n",
       "      <td>25</td>\n",
       "      <td>Male</td>\n",
       "      <td>175</td>\n",
       "      <td>80</td>\n",
       "      <td>25.3</td>\n",
       "      <td>Normal Weight</td>\n",
       "      <td>2</td>\n",
       "    </tr>\n",
       "    <tr>\n",
       "      <th>1</th>\n",
       "      <td>2</td>\n",
       "      <td>30</td>\n",
       "      <td>Female</td>\n",
       "      <td>160</td>\n",
       "      <td>60</td>\n",
       "      <td>22.5</td>\n",
       "      <td>Normal Weight</td>\n",
       "      <td>2</td>\n",
       "    </tr>\n",
       "    <tr>\n",
       "      <th>2</th>\n",
       "      <td>3</td>\n",
       "      <td>35</td>\n",
       "      <td>Male</td>\n",
       "      <td>180</td>\n",
       "      <td>90</td>\n",
       "      <td>27.3</td>\n",
       "      <td>Overweight</td>\n",
       "      <td>2</td>\n",
       "    </tr>\n",
       "  </tbody>\n",
       "</table>\n",
       "</div>"
      ],
      "text/plain": [
       "   ID  Age  Gender  Height  Weight   BMI          Label  cluster_number\n",
       "0   1   25    Male     175      80  25.3  Normal Weight               2\n",
       "1   2   30  Female     160      60  22.5  Normal Weight               2\n",
       "2   3   35    Male     180      90  27.3     Overweight               2"
      ]
     },
     "execution_count": 38,
     "metadata": {},
     "output_type": "execute_result"
    }
   ],
   "source": [
    "df_with_cluster=pd.concat([df,labels],axis=1)\n",
    "df_with_cluster.head(3)"
   ]
  },
  {
   "cell_type": "code",
   "execution_count": 39,
   "metadata": {},
   "outputs": [
    {
     "data": {
      "image/png": "[encoded data removed]",
      "text/plain": [
       "<Figure size 640x480 with 1 Axes>"
      ]
     },
     "metadata": {},
     "output_type": "display_data"
    }
   ],
   "source": [
    "df_with_cluster['cluster_number'].value_counts().plot(kind='bar',cmap='Set2')\n",
    "plt.xlabel('Cluster number')\n",
    "plt.ylabel('Count')\n",
    "plt.show()"
   ]
  },
  {
   "cell_type": "code",
   "execution_count": 40,
   "metadata": {},
   "outputs": [],
   "source": [
    "# Age binning\n",
    "bins=[0,10,15,20,25,30,35,40,45,50,55,60,65,70,75,80,85,90,95,100,112]\n",
    "df_with_cluster['Age_bins']=pd.cut(df_with_cluster['Age'],bins)"
   ]
  },
  {
   "cell_type": "code",
   "execution_count": 41,
   "metadata": {},
   "outputs": [
    {
     "data": {
      "image/png": "[encoded data removed]",
      "text/plain": [
       "<Figure size 1300x400 with 2 Axes>"
      ]
     },
     "metadata": {},
     "output_type": "display_data"
    }
   ],
   "source": [
    "df_cluster_age=df_with_cluster.groupby(['cluster_number','Age_bins']).size().unstack().fillna(0)\n",
    "sns.heatmap(df_cluster_age.apply(lambda x:x/x.sum(),axis=1),annot=True,cmap='BuPu')\n",
    "plt.gcf().set_size_inches(13,4)\n",
    "plt.show()"
   ]
  },
  {
   "cell_type": "code",
   "execution_count": 42,
   "metadata": {},
   "outputs": [
    {
     "name": "stdout",
     "output_type": "stream",
     "text": [
      "   ID  Age  Gender  Height  Weight   BMI          Label\n",
      "0   1   25    Male     175      80  25.3  Normal Weight\n",
      "1   2   30  Female     160      60  22.5  Normal Weight\n",
      "2   3   35    Male     180      90  27.3     Overweight\n",
      "3   4   40  Female     150      50  20.0    Underweight\n",
      "4   5   45    Male     190     100  31.2          Obese\n",
      "5   6   50  Female     140      40  16.7    Underweight\n",
      "6   7   55    Male     200     110  34.2          Obese\n",
      "7   8   60  Female     130      30  13.3    Underweight\n",
      "8   9   65    Male     210     120  37.2          Obese\n",
      "9  10   70  Female     120      20  10.0    Underweight\n"
     ]
    }
   ],
   "source": [
    "print(df.head(10))"
   ]
  },
  {
   "cell_type": "code",
   "execution_count": 43,
   "metadata": {},
   "outputs": [
    {
     "name": "stdout",
     "output_type": "stream",
     "text": [
      "    ID  Age  Gender  Height  Weight   BMI          Label\n",
      "60  63   26    Male     180      65  22.7  Normal Weight\n",
      "61  64   31  Female     150      45  18.7    Underweight\n",
      "62  65   36    Male     190      75  24.2  Normal Weight\n",
      "63  66   41  Female     140      55  21.2  Normal Weight\n",
      "64  67   46    Male     200      85  26.1     Overweight\n",
      "65  68   51  Female     130      65  22.7  Normal Weight\n",
      "66  69   56    Male     210      95  27.0     Overweight\n",
      "67  70   61  Female     120      75  25.0     Overweight\n",
      "68  71   15    Male     175      45  18.7    Underweight\n",
      "69  72   20  Female     160      30  13.3    Underweight\n",
      "70  73   25    Male     180      55  21.2  Normal Weight\n",
      "71  74   30  Female     150      40  16.7    Underweight\n",
      "72  75   35    Male     190      65  22.7  Normal Weight\n",
      "73  76   40  Female     140      50  20.0    Underweight\n",
      "74  77   45    Male     200      75  24.2  Normal Weight\n"
     ]
    }
   ],
   "source": [
    "print(df.iloc[60:75])"
   ]
  }
 ],
 "metadata": {
  "kernelspec": {
   "display_name": "base",
   "language": "python",
   "name": "python3"
  },
  "language_info": {
   "codemirror_mode": {
    "name": "ipython",
    "version": 3
   },
   "file_extension": ".py",
   "mimetype": "text/x-python",
   "name": "python",
   "nbconvert_exporter": "python",
   "pygments_lexer": "ipython3",
   "version": "3.10.9"
  }
 },
 "nbformat": 4,
 "nbformat_minor": 2
}
